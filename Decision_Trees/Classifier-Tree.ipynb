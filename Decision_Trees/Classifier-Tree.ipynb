{
 "cells": [
  {
   "cell_type": "code",
   "execution_count": 1,
   "metadata": {},
   "outputs": [],
   "source": [
    "from __future__ import print_function\n",
    "import numpy as np\n",
    "from sklearn.utils import shuffle\n",
    "import pandas as pd\n",
    "import numpy as np\n",
    "from sklearn.datasets import load_iris\n",
    "from collections import Counter\n",
    "import time\n",
    "\n",
    "import matplotlib.pyplot as plt\n",
    "import sklearn\n",
    "from sklearn import tree"
   ]
  },
  {
   "cell_type": "code",
   "execution_count": 2,
   "metadata": {},
   "outputs": [],
   "source": [
    "#scikit learn classifier with train values\n",
    "def scikit_learn(train):\n",
    "    y = train[train.columns[-1]].values.tolist()\n",
    "    x = train[train.columns[:-1]].values.tolist()\n",
    "    clf = sklearn.tree.DecisionTreeClassifier()\n",
    "    clf.fit(x,y)\n",
    "    return clf\n",
    "    "
   ]
  },
  {
   "cell_type": "code",
   "execution_count": 3,
   "metadata": {},
   "outputs": [],
   "source": [
    "#Prediction of scikit-learn on a given row. \n",
    "def scikit_predict(clf,test):\n",
    "    x_test = test[test.columns[:-1]].values.tolist()\n",
    "    y_test = test[test.columns[-1]].values.tolist()\n",
    "    cnt = 0\n",
    "    accurate = 0\n",
    "    for index,row in enumerate(x_test):\n",
    "        cnt+=1\n",
    "        test = clf.predict([row])\n",
    "        if(test[0]==y_test[index]): \n",
    "            accurate+=1\n",
    "    return 1.0*accurate/cnt\n",
    "        \n",
    "    "
   ]
  },
  {
   "cell_type": "code",
   "execution_count": 4,
   "metadata": {},
   "outputs": [],
   "source": [
    "#Count of each row in the dataset. \n",
    "def class_counts(dataset):\n",
    "    \n",
    "    last_name = dataset.columns[-1]  \n",
    "    last_col = dataset[last_name]\n",
    "    counter = Counter(last_col) \n",
    "    return counter\n",
    "    "
   ]
  },
  {
   "cell_type": "code",
   "execution_count": 5,
   "metadata": {},
   "outputs": [],
   "source": [
    "\n",
    "def most_frequent(counter): \n",
    "    maxi = 0\n",
    "    ele = 0\n",
    "    for i in counter.keys():\n",
    "        if(counter[i]>maxi):\n",
    "            ele = i\n",
    "            maxi = counter[i]\n",
    "    return ele"
   ]
  },
  {
   "cell_type": "code",
   "execution_count": 6,
   "metadata": {},
   "outputs": [],
   "source": [
    "def gini(rows):\n",
    "\n",
    "    \n",
    "    classes = class_counts(rows)\n",
    "    \n",
    "    total=len(rows)\n",
    "    p=0\n",
    "    for i in classes:\n",
    "        p+= (classes[i]*1.0 / total)**2\n",
    "        \n",
    "        \n",
    "        \n",
    "    return 1-p"
   ]
  },
  {
   "cell_type": "code",
   "execution_count": 7,
   "metadata": {},
   "outputs": [],
   "source": [
    "def info_gain(upper, lower, current):\n",
    "    upper_len = len(upper)\n",
    "    lower_len = len(lower)\n",
    "    p = lower_len*1.0 / (lower_len + upper_len)\n",
    "    \n",
    "    s = p * gini(lower) + (1 - p) * gini(upper)\n",
    "    gain = current - s\n",
    "    \n",
    "    return gain"
   ]
  },
  {
   "cell_type": "code",
   "execution_count": 8,
   "metadata": {},
   "outputs": [],
   "source": [
    "class Output: \n",
    "    def __init__(self,rows):\n",
    "        self.prediction = most_frequent(class_counts(rows))\n",
    "    \n",
    "        \n",
    "   "
   ]
  },
  {
   "cell_type": "code",
   "execution_count": 9,
   "metadata": {},
   "outputs": [],
   "source": [
    "class Decision_Node:\n",
    "    \n",
    "    def __init__(self,cutoff,attr,true,false): \n",
    "        self.true = true\n",
    "        self.false = false\n",
    "        self.attr = attr\n",
    "        self.cutoff = cutoff"
   ]
  },
  {
   "cell_type": "code",
   "execution_count": 10,
   "metadata": {},
   "outputs": [],
   "source": [
    "def best_split(dataset): \n",
    "    best_gain = -10\n",
    "    best_attr = 0 \n",
    "    best_cutoff = 0\n",
    "    \n",
    "    current = gini(dataset)\n",
    "    \n",
    "    features = dataset.columns[:-1]\n",
    "    \n",
    "    for attr in features:\n",
    "        cutoff = set(dataset[attr])\n",
    "        for cut in cutoff:\n",
    "            upper,lower = part(dataset,cut,attr)\n",
    "            if(len(upper)==0 or len(lower)==0): \n",
    "                continue\n",
    "           \n",
    "            gain = info_gain(upper,lower,current)\n",
    "            if(gain>best_gain): \n",
    "                best_gain = gain\n",
    "                best_attr = attr\n",
    "                best_cutoff = cut\n",
    "        \n",
    "    return best_gain, best_attr, best_cutoff\n",
    "            \n",
    "            \n"
   ]
  },
  {
   "cell_type": "code",
   "execution_count": 11,
   "metadata": {},
   "outputs": [],
   "source": [
    "def part(dataset,cutoff,attr):\n",
    "    \n",
    "    upper = dataset[dataset[attr]>cutoff]\n",
    "    lower = dataset[dataset[attr]<=cutoff]\n",
    "    \n",
    "    return upper,lower\n",
    "    "
   ]
  },
  {
   "cell_type": "code",
   "execution_count": 12,
   "metadata": {},
   "outputs": [],
   "source": [
    "def build_tree(dataset,depth,greedy): \n",
    "    \n",
    "    best_gain, best_attr,best_cutoff = best_split(dataset)\n",
    "    if greedy:\n",
    "        if(best_gain<=0):\n",
    "            return Output(dataset)\n",
    "    else: \n",
    "        if(depth==0 or len(dataset)<5): \n",
    "            return Output(dataset)\n",
    "    \n",
    "    upper,lower = part(dataset,best_cutoff,best_attr)\n",
    "    \n",
    "    true_branch = build_tree(upper,depth-1,greedy)\n",
    "    false_branch = build_tree(lower,depth-1,greedy)\n",
    "    \n",
    "    return Decision_Node(best_cutoff,best_attr,true_branch,false_branch)\n",
    "        "
   ]
  },
  {
   "cell_type": "code",
   "execution_count": 13,
   "metadata": {},
   "outputs": [],
   "source": [
    "#Check a given row for the condition.\n",
    "def check(row,node):\n",
    "    at = node.attr\n",
    "    \n",
    "    if(row[at]>node.cutoff):\n",
    "        return True\n",
    "    else:\n",
    "        return False\n"
   ]
  },
  {
   "cell_type": "code",
   "execution_count": 14,
   "metadata": {},
   "outputs": [],
   "source": [
    "#A classification for iris datase\n",
    "def classify_iris(row,node):\n",
    "    if isinstance(node,Output): \n",
    "        return node.prediction\n",
    "    else: \n",
    "        if(check(row,node)):\n",
    "            return classify_iris(row,node.true)\n",
    "        else:\n",
    "            return classify_iris(row,node.false)\n",
    "    "
   ]
  },
  {
   "cell_type": "code",
   "execution_count": 15,
   "metadata": {},
   "outputs": [],
   "source": [
    "#Dividing the data into train and test.\n",
    "def divide_data(dataset):\n",
    "    attr = dataset.columns\n",
    "    train = []\n",
    "    test = []\n",
    "    for index,row in dataset.iterrows():\n",
    "        if(index%3==0):\n",
    "            test.append(row)\n",
    "        else: \n",
    "            train.append(row)\n",
    "    return pd.DataFrame(train),pd.DataFrame(test)\n",
    "    "
   ]
  },
  {
   "cell_type": "code",
   "execution_count": 16,
   "metadata": {},
   "outputs": [],
   "source": [
    "#Evaluating on the test set\n",
    "def accuracy(test,tree):\n",
    "    accurate = 0\n",
    "    cnt = 0\n",
    "    listed = test.values.tolist()\n",
    "    for index,row in test.iterrows(): \n",
    "        cnt+=1\n",
    "        if(row.tolist()[-1]==classify_iris(row,tree)):\n",
    "            accurate+=1\n",
    "    return 1.0*accurate/cnt\n",
    "    "
   ]
  },
  {
   "cell_type": "code",
   "execution_count": null,
   "metadata": {},
   "outputs": [],
   "source": []
  },
  {
   "cell_type": "code",
   "execution_count": 18,
   "metadata": {},
   "outputs": [],
   "source": [
    "#Q2(a)Creating the Decision tree.\n",
    "\n",
    "dataset = pd.read_csv('iris.csv')\n",
    "my_tree = build_tree(dataset,3,True)"
   ]
  },
  {
   "cell_type": "code",
   "execution_count": 19,
   "metadata": {},
   "outputs": [
    {
     "name": "stdout",
     "output_type": "stream",
     "text": [
      "My accuracy is 0.9\n"
     ]
    }
   ],
   "source": [
    "#Q2(b) Checking the accuracy on iris dataset 66% training and 33% testing. \n",
    "#Building tree using greedy\n",
    "train,test = divide_data(dataset)\n",
    "tree_1 = build_tree(train,2,True) \n",
    "accuracy_1 = accuracy(test,tree_1)\n",
    "print(\"My accuracy is\",accuracy_1)\n"
   ]
  },
  {
   "cell_type": "code",
   "execution_count": 20,
   "metadata": {},
   "outputs": [],
   "source": [
    "#Q2(c) 5 fold cross validation on Iris dataset. \n",
    "\n",
    "def cross_valid(total_data,greedy=False):\n",
    "    max_acc = 0\n",
    "    opt_depth = 0\n",
    "    for depth in range(1,5):\n",
    "        \n",
    "        train_data = total_data[:120]\n",
    "        test_data = total_data[120:150]\n",
    "        tree1 = build_tree(train_data,depth,greedy)\n",
    "        accuracy1 = accuracy(test_data,tree1)\n",
    "\n",
    "        train_data = total_data[30:150]\n",
    "        test_data = total_data[0:30]\n",
    "        tree2 = build_tree(train_data,depth,greedy)\n",
    "        accuracy2 = accuracy(test_data,tree2)\n",
    "\n",
    "        test_data = total_data[30:60]\n",
    "        train_data = pd.concat([total_data[:30],total_data[60:150]])\n",
    "        tree3 = build_tree(train_data,depth,greedy)\n",
    "        accuracy3 = accuracy(test_data,tree3)\n",
    "\n",
    "        test_data = total_data[60:90]\n",
    "        train_data = pd.concat([total_data[:60],total_data[90:150]])\n",
    "        tree4 = build_tree(train_data,depth,greedy)\n",
    "        accuracy4 = accuracy(test_data,tree4)\n",
    "\n",
    "        test_data = total_data[90:120]\n",
    "        train_data = pd.concat([total_data[:90],total_data[120:150]])\n",
    "        tree5 = build_tree(train_data,depth,greedy)\n",
    "        accuracy5 = accuracy(test_data,tree5)\n",
    "        \n",
    "        avg_acc = (accuracy1+accuracy2+accuracy3+accuracy4+accuracy5)/5.\n",
    "        \n",
    "        if(avg_acc>max_acc):\n",
    "            max_acc = avg_acc\n",
    "            opt_depth = depth\n",
    "        \n",
    "    \n",
    "    \n",
    "    return max_acc,opt_depth \n"
   ]
  },
  {
   "cell_type": "code",
   "execution_count": 21,
   "metadata": {},
   "outputs": [
    {
     "name": "stdout",
     "output_type": "stream",
     "text": [
      "the accuracy of tree is 0.9200000000000002\n",
      "the optimal tree height 2\n"
     ]
    }
   ],
   "source": [
    "#Q2(c) Cross validation on dataset.\n",
    "\n",
    "acc = cross_valid(dataset)\n",
    "\n",
    "\n",
    "print(\"the accuracy of tree is\", acc[0])\n",
    "print(\"the optimal tree height\",acc[1])\n",
    "\n"
   ]
  },
  {
   "cell_type": "code",
   "execution_count": 22,
   "metadata": {},
   "outputs": [
    {
     "name": "stdout",
     "output_type": "stream",
     "text": [
      "my accuracy is 0.92\n",
      "scikit accuracy is 0.86\n"
     ]
    }
   ],
   "source": [
    "#Q4. Comparing classifier with scikit-learn.\n",
    "\n",
    "train,test = divide_data(dataset)\n",
    "\n",
    "built_tree = build_tree(train,3,False)\n",
    "\n",
    "my_accuracy = accuracy(test,built_tree)\n",
    "\n",
    "clf = scikit_learn(train)\n",
    "\n",
    "scikit_accuracy = scikit_predict(clf, test)\n",
    "\n",
    "print(\"my accuracy is\",my_accuracy)\n",
    "print(\"scikit accuracy is\",scikit_accuracy)"
   ]
  },
  {
   "cell_type": "code",
   "execution_count": 23,
   "metadata": {},
   "outputs": [],
   "source": [
    "#Q5 displaying the tree. This has been done with a simple print function instead of dtreeviz. \n",
    "\n",
    "def show_tree(node,space = \"\"): \n",
    "    if isinstance(node,Output): \n",
    "        print(space+\"output is\", node.prediction) \n",
    "        return\n",
    "    \n",
    "    print (space+str(node.attr)+'>'+str(node.cutoff))\n",
    "    \n",
    "    print(space+'--->True')\n",
    "    \n",
    "    show_tree(node.true,space+\"    \")\n",
    "    \n",
    "    print(space+'--->False')\n",
    "    \n",
    "    show_tree(node.false,space+\"    \")\n",
    "    \n",
    "    \n",
    "    "
   ]
  },
  {
   "cell_type": "code",
   "execution_count": 24,
   "metadata": {},
   "outputs": [
    {
     "name": "stdout",
     "output_type": "stream",
     "text": [
      "petal_length>1.9\n",
      "--->True\n",
      "    petal_width>1.7\n",
      "    --->True\n",
      "        petal_length>4.8\n",
      "        --->True\n",
      "            output is virginica\n",
      "        --->False\n",
      "            sepal_length>5.9\n",
      "            --->True\n",
      "                output is virginica\n",
      "            --->False\n",
      "                output is versicolor\n",
      "    --->False\n",
      "        petal_length>4.9\n",
      "        --->True\n",
      "            petal_width>1.5\n",
      "            --->True\n",
      "                sepal_length>6.7\n",
      "                --->True\n",
      "                    output is virginica\n",
      "                --->False\n",
      "                    output is versicolor\n",
      "            --->False\n",
      "                output is virginica\n",
      "        --->False\n",
      "            petal_width>1.6\n",
      "            --->True\n",
      "                output is virginica\n",
      "            --->False\n",
      "                output is versicolor\n",
      "--->False\n",
      "    output is setosa\n"
     ]
    }
   ],
   "source": [
    "show_tree(my_tree)"
   ]
  },
  {
   "cell_type": "code",
   "execution_count": 25,
   "metadata": {},
   "outputs": [
    {
     "name": "stdout",
     "output_type": "stream",
     "text": [
      "the accuracy of size 1 tree  0.67\n",
      "the accuracy of size 2 tree 0.96\n",
      "the accuracy of size 3 tree 0.97\n",
      "the accuracy of size 4 tree 0.99\n",
      "greedy accuracy 0.9\n",
      "best order 0.9\n",
      "worst order 0.66\n"
     ]
    }
   ],
   "source": [
    "#Q6. The IRIS data classification problem. \n",
    "#finding the best possible order of implementation \n",
    "built_tree = build_tree(train,1,False)\n",
    "my_accuracy = accuracy(train,built_tree)\n",
    "print(\"the accuracy of size 1 tree \",my_accuracy)\n",
    "\n",
    "built_tree = build_tree(train,2,False)\n",
    "my_accuracy = accuracy(train,built_tree)\n",
    "print(\"the accuracy of size 2 tree\",my_accuracy)\n",
    "\n",
    "built_tree = build_tree(train,3,False)\n",
    "my_accuracy = accuracy(train,built_tree)\n",
    "print(\"the accuracy of size 3 tree\",my_accuracy)\n",
    "\n",
    "built_tree = build_tree(train,4,False)\n",
    "my_accuracy = accuracy(train,built_tree)\n",
    "print(\"the accuracy of size 4 tree\",my_accuracy)\n",
    "\n",
    "built_tree = build_tree(train,5,False)\n",
    "my_accuracy = accuracy(train, built_tree) \n",
    "\n",
    "built_tree = build_tree(train,1,True)\n",
    "my_accuracy = accuracy(train, built_tree)\n",
    "\n",
    "#After exhaustive enumeration we observe that tree depth of 1 gives worst output.\n",
    "\n",
    "#The best possible value is 1 and worst possible is 4. \n",
    "#The greedy order gives an accuracy of 1.0\n",
    "\n",
    "#Now comparing performance on test set.\n",
    "built_tree = build_tree(train,1,True)\n",
    "my_accuracy = accuracy(test,built_tree)\n",
    "print(\"greedy accuracy\",my_accuracy)\n",
    "\n",
    "built_tree = build_tree(train,4,False)\n",
    "my_accuracy = accuracy(test,built_tree)\n",
    "print(\"best order\",my_accuracy)\n",
    "\n",
    "built_tree = build_tree(train,1,False)\n",
    "my_accuracy = accuracy(test,built_tree)\n",
    "print(\"worst order\",my_accuracy)\n",
    "\n"
   ]
  },
  {
   "cell_type": "code",
   "execution_count": null,
   "metadata": {},
   "outputs": [],
   "source": []
  },
  {
   "cell_type": "code",
   "execution_count": 27,
   "metadata": {},
   "outputs": [
    {
     "data": {
      "text/plain": [
       "[<matplotlib.lines.Line2D at 0x2a8bcfa2518>]"
      ]
     },
     "execution_count": 27,
     "metadata": {},
     "output_type": "execute_result"
    },
    {
     "data": {
      "text/plain": [
       "<Figure size 432x288 with 0 Axes>"
      ]
     },
     "metadata": {},
     "output_type": "display_data"
    },
    {
     "data": {
      "image/png": "[encoded data removed]",
      "text/plain": [
       "<Figure size 432x288 with 1 Axes>"
      ]
     },
     "metadata": {
      "needs_background": "light"
     },
     "output_type": "display_data"
    }
   ],
   "source": [
    "#Q7 Creating fake data for experiments and finding time complexity of algorithm\n",
    "##For constant N and variable m. \n",
    "\n",
    "start_m,end_m = 10,50\n",
    "start_n,end_n = 10,50\n",
    "\n",
    "fig1 = plt.figure()\n",
    "fig2 = plt.figure()\n",
    "depth = 2\n",
    "\n",
    "#Keeping n constant. n = 10\n",
    "time_train = []\n",
    "time_test = []\n",
    "#Variation with m.\n",
    "for i in range(start_m,end_m):\n",
    "        j = 10\n",
    "        \n",
    "        arr = np.random.randint(2, size=(i,j))\n",
    "        \n",
    "        data_train = pd.DataFrame(arr)\n",
    "        \n",
    "        start_train = time.time()\n",
    "        \n",
    "        built_tree = build_tree(data_train,depth,True)\n",
    "        \n",
    "        end_train = time.time()\n",
    "        \n",
    "        start_test = time.time() \n",
    "        \n",
    "        acc = accuracy(data_train,built_tree)\n",
    "        \n",
    "        end_test = time.time() \n",
    "        \n",
    "        time_train.append([end_train - start_train])\n",
    "        time_test.append([end_test-start_test])\n",
    "        \n",
    "        \n",
    "\n",
    "        \n",
    "       \n",
    "           \n",
    "x_train = range(start_m,end_m)\n",
    "x_test = range(start_n, end_n)\n",
    "y_train = time_train\n",
    "y_test = time_test\n",
    "\n",
    "plt.plot(x_train,y_train) \n",
    "plt.plot(x_test,y_test)\n"
   ]
  },
  {
   "cell_type": "code",
   "execution_count": null,
   "metadata": {},
   "outputs": [],
   "source": []
  },
  {
   "cell_type": "code",
   "execution_count": null,
   "metadata": {},
   "outputs": [],
   "source": []
  },
  {
   "cell_type": "code",
   "execution_count": null,
   "metadata": {},
   "outputs": [],
   "source": []
  },
  {
   "cell_type": "code",
   "execution_count": 28,
   "metadata": {},
   "outputs": [
    {
     "data": {
      "text/plain": [
       "[<matplotlib.lines.Line2D at 0x2a8bcfb67b8>]"
      ]
     },
     "execution_count": 28,
     "metadata": {},
     "output_type": "execute_result"
    },
    {
     "data": {
      "text/plain": [
       "<Figure size 432x288 with 0 Axes>"
      ]
     },
     "metadata": {},
     "output_type": "display_data"
    },
    {
     "data": {
      "image/png": "[encoded data removed]",
      "text/plain": [
       "<Figure size 432x288 with 1 Axes>"
      ]
     },
     "metadata": {
      "needs_background": "light"
     },
     "output_type": "display_data"
    }
   ],
   "source": [
    "#Q7 Creating fake data for experiments and finding time complexity of algorithm\n",
    "##For constant M  and variable N \n",
    "\n",
    "start_n,end_n = 10,50\n",
    "start_m,end_m = 10,50\n",
    "\n",
    "fig1 = plt.figure()\n",
    "fig2 = plt.figure()\n",
    "depth = 2\n",
    "\n",
    "\n",
    "time_train = []\n",
    "time_test = []\n",
    "\n",
    "for j in range(start_n,end_n):\n",
    "        i = 10\n",
    "        \n",
    "        arr = np.random.randint(2, size=(i,j))\n",
    "        \n",
    "        data_train = pd.DataFrame(arr)\n",
    "        \n",
    "        start_train = time.time()\n",
    "        \n",
    "        built_tree = build_tree(data_train,depth,True)\n",
    "        \n",
    "        end_train = time.time()\n",
    "        \n",
    "        start_test = time.time() \n",
    "        \n",
    "        acc = accuracy(data_train,built_tree)\n",
    "        \n",
    "        end_test = time.time() \n",
    "        \n",
    "        time_train.append([end_train - start_train])\n",
    "        time_test.append([end_test-start_test])\n",
    "        \n",
    "        \n",
    "\n",
    "        \n",
    "       \n",
    "           \n",
    "x_train = range(start_m,end_m)\n",
    "x_test = range(start_n, end_n)\n",
    "y_train = time_train\n",
    "y_test = time_test\n",
    "\n",
    "plt.plot(x_train,y_train) \n",
    "plt.plot(x_test,y_test)\n"
   ]
  },
  {
   "cell_type": "code",
   "execution_count": null,
   "metadata": {},
   "outputs": [],
   "source": []
  },
  {
   "cell_type": "code",
   "execution_count": null,
   "metadata": {},
   "outputs": [],
   "source": []
  },
  {
   "cell_type": "code",
   "execution_count": null,
   "metadata": {},
   "outputs": [],
   "source": []
  },
  {
   "cell_type": "code",
   "execution_count": 22,
   "metadata": {},
   "outputs": [],
   "source": []
  },
  {
   "cell_type": "code",
   "execution_count": null,
   "metadata": {},
   "outputs": [],
   "source": []
  },
  {
   "cell_type": "code",
   "execution_count": null,
   "metadata": {},
   "outputs": [],
   "source": []
  },
  {
   "cell_type": "code",
   "execution_count": 23,
   "metadata": {},
   "outputs": [
    {
     "ename": "ModuleNotFoundError",
     "evalue": "No module named 'defs'",
     "output_type": "error",
     "traceback": [
      "\u001b[1;31m---------------------------------------------------------------------------\u001b[0m",
      "\u001b[1;31mModuleNotFoundError\u001b[0m                       Traceback (most recent call last)",
      "\u001b[1;32m<ipython-input-23-9808a1770b6b>\u001b[0m in \u001b[0;36m<module>\u001b[1;34m\u001b[0m\n\u001b[1;32m----> 1\u001b[1;33m \u001b[1;32mimport\u001b[0m \u001b[0mdefs\u001b[0m\u001b[1;33m\u001b[0m\u001b[1;33m\u001b[0m\u001b[0m\n\u001b[0m",
      "\u001b[1;31mModuleNotFoundError\u001b[0m: No module named 'defs'"
     ]
    }
   ],
   "source": []
  },
  {
   "cell_type": "code",
   "execution_count": 23,
   "metadata": {},
   "outputs": [],
   "source": [
    "\n"
   ]
  },
  {
   "cell_type": "code",
   "execution_count": null,
   "metadata": {},
   "outputs": [],
   "source": []
  },
  {
   "cell_type": "code",
   "execution_count": null,
   "metadata": {},
   "outputs": [],
   "source": []
  },
  {
   "cell_type": "code",
   "execution_count": null,
   "metadata": {},
   "outputs": [],
   "source": []
  },
  {
   "cell_type": "code",
   "execution_count": null,
   "metadata": {},
   "outputs": [],
   "source": []
  },
  {
   "cell_type": "code",
   "execution_count": null,
   "metadata": {},
   "outputs": [],
   "source": []
  },
  {
   "cell_type": "code",
   "execution_count": 46,
   "metadata": {},
   "outputs": [],
   "source": []
  },
  {
   "cell_type": "code",
   "execution_count": null,
   "metadata": {},
   "outputs": [],
   "source": []
  }
 ],
 "metadata": {
  "kernelspec": {
   "display_name": "Python 3",
   "language": "python",
   "name": "python3"
  },
  "language_info": {
   "codemirror_mode": {
    "name": "ipython",
    "version": 3
   },
   "file_extension": ".py",
   "mimetype": "text/x-python",
   "name": "python",
   "nbconvert_exporter": "python",
   "pygments_lexer": "ipython3",
   "version": "3.6.7"
  }
 },
 "nbformat": 4,
 "nbformat_minor": 2
}
