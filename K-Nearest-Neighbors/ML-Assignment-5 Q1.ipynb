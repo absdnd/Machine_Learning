{
 "cells": [
  {
   "cell_type": "code",
   "execution_count": 2,
   "metadata": {},
   "outputs": [],
   "source": [
    "import numpy as np\n",
    "import pandas as pd\n",
    "from sklearn import datasets\n",
    "from sklearn.model_selection import train_test_split\n",
    "from scipy.stats import mode\n",
    "import timeit\n",
    "import time\n",
    "import matplotlib.pyplot as plt"
   ]
  },
  {
   "cell_type": "code",
   "execution_count": 3,
   "metadata": {},
   "outputs": [],
   "source": [
    "def KNN_predict(typei,train_X,train_Y,test_X,K,distance_metric = 'Eucledian'):\n",
    "    result_array = []\n",
    "    for t in test_X: \n",
    "        if(typei == 'classification'):\n",
    "            max_val = findNN(train_X,train_Y, t,K,distance_metric)\n",
    "            result_array.append(max_val)\n",
    "        if(typei == 'regression'):\n",
    "            val = findR(train_x,train_y,t,K,distance_metric)\n",
    "            result_array.append(val)\n",
    "        elif(typei == 'regression_plot'): \n",
    "            val = findRPlot(train_x,train_y,t,K,distance_metric)\n",
    "            result_array.append(val)\n",
    "    return result_array"
   ]
  },
  {
   "cell_type": "code",
   "execution_count": 4,
   "metadata": {},
   "outputs": [],
   "source": [
    "def accuracy(result,test_y): \n",
    "    diff = result-test_y\n",
    "    locs= np.nonzero(res-test_y)\n",
    "    return (len(test_y)- len(locs))/len(test_y)"
   ]
  },
  {
   "cell_type": "code",
   "execution_count": 5,
   "metadata": {},
   "outputs": [],
   "source": [
    "def accuracy_reg(result, test_y): \n",
    "    diff = np.asarray(result)-np.asarray(test_y)\n",
    "    rmse = (np.mean(diff**2))**0.5\n",
    "    return rmse"
   ]
  },
  {
   "cell_type": "code",
   "execution_count": 6,
   "metadata": {},
   "outputs": [],
   "source": [
    "def findRM(train_x,train_y,t,K): \n",
    "    t_arr = np.matlib.repmat(t,len(train_x),1)\n",
    "    error = train_x - t_arr\n",
    "    mat = np.sum(np.abs(error),axis=-1)\n",
    "    indices = np.argsort(mat)[:K]\n",
    "    train_y = np.asarray(train_y)\n",
    "    mids = train_y[indices]\n",
    "    result = np.mean(mids)\n",
    "    return result"
   ]
  },
  {
   "cell_type": "code",
   "execution_count": 7,
   "metadata": {},
   "outputs": [],
   "source": [
    "def findR(train_x,train_y,t,K,distance_metric): \n",
    "    t_arr = np.matlib.repmat(t,len(train_x),1)\n",
    "    error = train_x - t_arr\n",
    "    if(distance_metric == 'Eucledian'): \n",
    "        mat = np.sum(np.abs(error)**2,axis=-1)**(1./2)\n",
    "    elif(distance_metric == 'Manhattan'):\n",
    "        mat = np.sum(np.abs(error),axis = -1)\n",
    "    elif(distance_metric == 'Cosine'):\n",
    "        res = np.sum(np.multiply(train_x, t),axis = -1)\n",
    "        mat1 = np.sum(np.abs(train_x)**2,axis=-1)**(1./2)\n",
    "        mat = res/mat1\n",
    "    if(distance_metric!='Cosine'): \n",
    "        indices = np.argsort(mat)[:K]\n",
    "    else: \n",
    "        indices = np.argsort(mat)[-K:]\n",
    "    train_y = np.asarray(train_y)\n",
    "    mids = train_y[indices]\n",
    "    result = np.mean(mids)\n",
    "    return result"
   ]
  },
  {
   "cell_type": "code",
   "execution_count": 8,
   "metadata": {},
   "outputs": [],
   "source": [
    "def findRC(train_x,train_y,t,K): \n",
    "    res = np.sum(np.multiply(train_x, t),axis = -1)\n",
    "    mat1 = np.sum(np.abs(train_x)**2,axis=-1)**(1./2)\n",
    "    res = res/mat1\n",
    "    indices = np.argsort(res)[-K:]\n",
    "    train_y = np.asarray(train_y)\n",
    "    mids = train_y[indices]\n",
    "    result = np.mean(mids)\n",
    "    return result"
   ]
  },
  {
   "cell_type": "code",
   "execution_count": null,
   "metadata": {},
   "outputs": [],
   "source": []
  },
  {
   "cell_type": "code",
   "execution_count": 9,
   "metadata": {},
   "outputs": [],
   "source": [
    "def findRPlot(train_x,train_y,t,K,distance_metric): \n",
    "    neigh_list = []\n",
    "    max_error = 0\n",
    "    loc = 0\n",
    "    error_list = []\n",
    "    for i in range(len(train_x)): \n",
    "        if(distance_metric == 'Manhattan'): \n",
    "            error = sum(np.abs(np.asarray(t)-np.asarray(train_x[i])))\n",
    "            \n",
    "        elif(distance_metric == 'Eucledian'):\n",
    "            error = sum((np.abs(np.asarray(t)-np.asarray(train_x[i])))**2)\n",
    "            \n",
    "        if(len(neigh_list)<K):\n",
    "            neigh_list.append(i)\n",
    "            error_list.append(error)\n",
    "        else:\n",
    "            loc = np.argmin(error_list)\n",
    "            if(error<error_list[loc]):\n",
    "                error_list[loc] = error\n",
    "                neigh_list[loc] = i\n",
    "    sum1 = 0.\n",
    "    for i in neigh_list:\n",
    "        sum1 = sum1+train_y[i]\n",
    "    return sum1/float(K) \n"
   ]
  },
  {
   "cell_type": "code",
   "execution_count": 10,
   "metadata": {},
   "outputs": [],
   "source": [
    "def findNN(train_x,train_y,t,K,distance_metric): \n",
    "    \n",
    "    t_arr = np.matlib.repmat(t,len(train_x),1)\n",
    "    error = train_x - t_arr\n",
    "    if(distance_metric == 'Eucledian'):\n",
    "        mat = np.sum(np.abs(error)**2,axis=-1)**(1./2)\n",
    "    if(distance_metric == 'Manhattan'): \n",
    "        mat = np.sum(np.abs(error),axis = -1)\n",
    "    if(distance_metric == 'Cosine'):\n",
    "        mat = np.sum(np.multiply(train_x, t),axis = -1)\n",
    "        mat1 = np.sum(np.abs(train_x)**2,axis=-1)**(1./2)\n",
    "        mat = mat/mat1\n",
    "        \n",
    "    indices = np.argsort(mat)[:K]\n",
    "    train_y = np.asarray(train_y)\n",
    "    result,_  = mode(train_y[indices])\n",
    "    return result[0]\n",
    "    "
   ]
  },
  {
   "cell_type": "code",
   "execution_count": 11,
   "metadata": {},
   "outputs": [
    {
     "name": "stdout",
     "output_type": "stream",
     "text": [
      "The accuracy on IRIS dataset is 0.98\n"
     ]
    }
   ],
   "source": [
    "\n",
    "iris = datasets.load_iris()\n",
    "x = iris.data\n",
    "y = iris.target\n",
    "train_x, test_x, train_y, test_y = train_test_split(x, y, test_size=0.33, random_state=42)\n",
    "res = KNN_predict('classification',train_x,train_y,test_x,20,'Cosine')\n",
    "print(\"The accuracy on IRIS dataset is\", accuracy(res,test_y))"
   ]
  },
  {
   "cell_type": "code",
   "execution_count": 11,
   "metadata": {},
   "outputs": [
    {
     "name": "stdout",
     "output_type": "stream",
     "text": [
      "Error in Eucledian distance 8.315020267190912\n",
      "Error in Manhattan distance 8.407013929551848\n",
      "Error in Cosine distance 8.481852676008835\n"
     ]
    }
   ],
   "source": [
    "reg = pd.read_excel('real_estate.xlsx')\n",
    "features = reg.columns\n",
    "X,Y = reg[features[1:-1]].values.tolist(), reg[features[-1]].values.tolist()\n",
    "train_x, test_x, train_y, test_y = train_test_split(X,Y, test_size=0.33, random_state=42)\n",
    "\n",
    "predM = KNN_predict('regression',train_x,train_y,test_x,1,'Manhattan')\n",
    "predE = KNN_predict('regression',train_x,train_y,test_x,1,'Eucledian')\n",
    "predC = KNN_predict('regression',train_x,train_y,test_x,1,'Cosine')\n",
    "errorM = accuracy_reg(predM,test_y)\n",
    "errorE = accuracy_reg(predE,test_y)\n",
    "errorC = accuracy_reg(predC,test_y)\n",
    "print(\"Error in Eucledian distance\",errorE)\n",
    "print(\"Error in Manhattan distance\",errorM)\n",
    "print(\"Error in Cosine distance\",errorC)"
   ]
  },
  {
   "cell_type": "code",
   "execution_count": 12,
   "metadata": {},
   "outputs": [
    {
     "data": {
      "text/plain": [
       "[<matplotlib.lines.Line2D at 0x16d50875fd0>]"
      ]
     },
     "execution_count": 12,
     "metadata": {},
     "output_type": "execute_result"
    },
    {
     "data": {
      "image/png": "[encoded data removed]",
      "text/plain": [
       "<Figure size 432x288 with 1 Axes>"
      ]
     },
     "metadata": {
      "needs_background": "light"
     },
     "output_type": "display_data"
    }
   ],
   "source": [
    "#Q1(b) Varying time taken v/s m\n",
    "\n",
    "m = 200\n",
    "n = 100\n",
    "start_m = 100\n",
    "time_cnt = []\n",
    "X = np.random.randint(2,size =(m,n))\n",
    "Y = np.random.randint(2,size = m)\n",
    "time_cnt = []\n",
    "for i in range(start_m,m):\n",
    "    \n",
    "    X_c = X[:i, :]\n",
    "    Y_c = Y[:i]\n",
    "    train_x, test_x, train_y, test_y = train_test_split(X_c,Y_c, test_size=0.3, random_state=42)\n",
    "    start_time = time.time()\n",
    "    predM = KNN_predict('regression_plot',train_x,train_y,test_x,5,'Manhattan')\n",
    "    elapsed = time.time()-start_time\n",
    "    time_cnt.append(elapsed)\n",
    "\n",
    "M_list  = range(start_m,m)\n",
    "plt.plot(M_list,time_cnt)"
   ]
  },
  {
   "cell_type": "code",
   "execution_count": 13,
   "metadata": {},
   "outputs": [
    {
     "data": {
      "text/plain": [
       "[<matplotlib.lines.Line2D at 0x16d518cfdd8>]"
      ]
     },
     "execution_count": 13,
     "metadata": {},
     "output_type": "execute_result"
    },
    {
     "data": {
      "image/png": "[encoded data removed]",
      "text/plain": [
       "<Figure size 432x288 with 1 Axes>"
      ]
     },
     "metadata": {
      "needs_background": "light"
     },
     "output_type": "display_data"
    }
   ],
   "source": [
    "#Q1(b) Varying time taken v/s N\n",
    "m = 300\n",
    "n = 50\n",
    "X = np.random.randint(2,size =(m,n))\n",
    "Y = np.random.randint(2,size = m)\n",
    "start_n = 1\n",
    "time_cnt = []\n",
    "for i in range(start_n,n):\n",
    "    \n",
    "    X_c = X[:,:i]\n",
    "    Y_c = Y\n",
    "    train_x, test_x, train_y, test_y = train_test_split(X_c,Y_c, test_size=0.3, random_state=42)\n",
    "    start_time = time.time()\n",
    "    predM = KNN_predict('regression_plot',train_x,train_y,test_x,5,'Manhattan')\n",
    "    elapsed = time.time()-start_time\n",
    "    time_cnt.append(elapsed)\n",
    "\n",
    "\n",
    "N_list  = range(start_n,n)\n",
    "plt.plot(N_list,time_cnt)"
   ]
  },
  {
   "cell_type": "code",
   "execution_count": null,
   "metadata": {},
   "outputs": [],
   "source": []
  },
  {
   "cell_type": "code",
   "execution_count": null,
   "metadata": {},
   "outputs": [],
   "source": []
  },
  {
   "cell_type": "code",
   "execution_count": null,
   "metadata": {},
   "outputs": [],
   "source": []
  },
  {
   "cell_type": "code",
   "execution_count": null,
   "metadata": {},
   "outputs": [],
   "source": [
    "\n"
   ]
  },
  {
   "cell_type": "code",
   "execution_count": null,
   "metadata": {},
   "outputs": [],
   "source": []
  },
  {
   "cell_type": "code",
   "execution_count": null,
   "metadata": {},
   "outputs": [],
   "source": []
  },
  {
   "cell_type": "code",
   "execution_count": null,
   "metadata": {},
   "outputs": [],
   "source": []
  },
  {
   "cell_type": "code",
   "execution_count": null,
   "metadata": {},
   "outputs": [],
   "source": []
  },
  {
   "cell_type": "code",
   "execution_count": null,
   "metadata": {},
   "outputs": [],
   "source": []
  },
  {
   "cell_type": "code",
   "execution_count": null,
   "metadata": {},
   "outputs": [],
   "source": []
  },
  {
   "cell_type": "code",
   "execution_count": null,
   "metadata": {},
   "outputs": [],
   "source": []
  },
  {
   "cell_type": "code",
   "execution_count": null,
   "metadata": {},
   "outputs": [],
   "source": []
  },
  {
   "cell_type": "code",
   "execution_count": null,
   "metadata": {},
   "outputs": [],
   "source": []
  }
 ],
 "metadata": {
  "kernelspec": {
   "display_name": "Python 3",
   "language": "python",
   "name": "python3"
  },
  "language_info": {
   "codemirror_mode": {
    "name": "ipython",
    "version": 3
   },
   "file_extension": ".py",
   "mimetype": "text/x-python",
   "name": "python",
   "nbconvert_exporter": "python",
   "pygments_lexer": "ipython3",
   "version": "3.6.7"
  }
 },
 "nbformat": 4,
 "nbformat_minor": 2
}
