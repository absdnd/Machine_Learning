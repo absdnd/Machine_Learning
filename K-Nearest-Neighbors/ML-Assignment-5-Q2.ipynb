{
 "cells": [
  {
   "cell_type": "code",
   "execution_count": 9,
   "metadata": {},
   "outputs": [],
   "source": [
    "import numpy as np\n",
    "import pandas as pd\n",
    "from sklearn import datasets\n",
    "from sklearn.model_selection import train_test_split\n",
    "from scipy.stats import mode\n",
    "import timeit\n",
    "import time\n",
    "import matplotlib.pyplot as plt\n",
    "from sklearn.neighbors import KNeighborsRegressor\n",
    "from sklearn.preprocessing import MinMaxScaler"
   ]
  },
  {
   "cell_type": "code",
   "execution_count": 10,
   "metadata": {},
   "outputs": [],
   "source": [
    "def accuracy_reg(result, test_y): \n",
    "    diff = np.asarray(result)-np.asarray(test_y)\n",
    "    rmse = (np.mean(diff**2))**0.5\n",
    "    return rmse"
   ]
  },
  {
   "cell_type": "code",
   "execution_count": 11,
   "metadata": {},
   "outputs": [],
   "source": [
    "def optimalk(trainx,validatex,trainy,validatey): \n",
    "    minacc = 1000\n",
    "    for i in range(1,10):\n",
    "        neigh = KNeighborsRegressor(n_neighbors=i)\n",
    "        neigh.fit(trainx,trainy)\n",
    "        result = neigh.predict(validatex)\n",
    "        acc = accuracy_reg(result,validatey)\n",
    "        if(acc<minacc): \n",
    "            minacc = acc\n",
    "            K = i\n",
    "    return K,minacc"
   ]
  },
  {
   "cell_type": "code",
   "execution_count": 12,
   "metadata": {},
   "outputs": [],
   "source": [
    "def train_error(trainx,trainy,k):\n",
    "    neigh = KNeighborsRegressor(n_neighbors=k)\n",
    "    neigh.fit(trainx,trainy)\n",
    "    result = neigh.predict(trainx)\n",
    "    acc = accuracy_reg(result,trainy)\n",
    "    return acc"
   ]
  },
  {
   "cell_type": "code",
   "execution_count": 13,
   "metadata": {},
   "outputs": [],
   "source": [
    "def test_error(trainx,trainy,testx,testy,k):\n",
    "    #test error using k nearest neighboours\n",
    "    neigh = KNeighborsRegressor(n_neighbors=k)\n",
    "    neigh.fit(trainx,trainy)\n",
    "    result = neigh.predict(test_x)\n",
    "    acc = accuracy_reg(result,testy)\n",
    "    return acc"
   ]
  },
  {
   "cell_type": "code",
   "execution_count": 14,
   "metadata": {},
   "outputs": [],
   "source": [
    "\n",
    "def cross_validate(train_x,train_y,test_x,test_y):\n",
    "    trainx = train_x[:240]\n",
    "    validatex = train_x[240:]\n",
    "    trainy = train_y[:240]\n",
    "    validatey = train_y[240:]\n",
    "    K,validate_err = optimalk(trainx,validatex,trainy,validatey)\n",
    "    test_err = test_error(trainx,trainy,test_x,test_y,K)\n",
    "    train_err = train_error(trainx,trainy,K)\n",
    "    print(\"Fold 1: optimal K is\",K,\"Train RMSE\",train_err,\" Validation RMSE is\",validate_err,\"Test RMSE is\",test_err) \n",
    "\n",
    "    #Fold 2\n",
    "    trainx = train_x[60:]\n",
    "    trainy = train_y[60:]\n",
    "    validatex = train_x[:60]\n",
    "    validatey = train_y[:60]\n",
    "    K,validate_err = optimalk(trainx,validatex,trainy,validatey)\n",
    "    test_err = test_error(trainx,trainy,test_x,test_y,K)\n",
    "    train_err = train_error(trainx,trainy,K)\n",
    "    print(\"Fold 2: optimal K is\",K,\"Train RMSE\",train_err,\" Validation RMSE is\",validate_err,\"Test RMSE is\",test_err)  \n",
    "\n",
    "    #Fold 3\n",
    "    trainx = train_x[120:] + train_x[:60]\n",
    "    trainy = train_y[120:] + train_y[:60]\n",
    "    validatex = train_x[60:120]\n",
    "    validatey = train_y[60:120]\n",
    "    K,validate_err = optimalk(trainx,validatex,trainy,validatey)\n",
    "    test_err = test_error(trainx,trainy,test_x,test_y,K)\n",
    "    train_err = train_error(trainx,trainy,K)\n",
    "    print(\"Fold 3: optimal K is\",K,\"Train RMSE\",train_err,\" Validation RMSE is\",validate_err,\"Test RMSE is\",test_err) \n",
    "\n",
    "    #Fold 4\n",
    "    trainx = train_x[180:] + train_x[:120]\n",
    "    trainy = train_y[180:] + train_y[:120]\n",
    "    validatex = train_x[120:180]\n",
    "    validatey = train_y[120:180]\n",
    "    K,validate_err = optimalk(trainx,validatex,trainy,validatey)\n",
    "    test_err = test_error(trainx,trainy,test_x,test_y,K)\n",
    "    train_err = train_error(trainx,trainy,K)\n",
    "    print(\"Fold 4: optimal K is\",K,\"Train RMSE\",train_err,\" Validation RMSE is\",validate_err,\"Test RMSE is\",test_err) \n",
    "\n",
    "    #Fold 5\n",
    "    trainx = train_x[240:] + train_x[:180]\n",
    "    trainy = train_y[240:] + train_y[:180]\n",
    "    validatex = train_x[180:240]\n",
    "    validatey = train_y[180:240]\n",
    "    K,validate_err = optimalk(trainx,validatex,trainy,validatey)\n",
    "    test_err = test_error(trainx,trainy,test_x,test_y,K)\n",
    "    train_err = train_error(trainx,trainy,K)\n",
    "    print(\"Fold 5: optimal K is\",K,\"Train RMSE\",train_err,\" Validation RMSE is\",validate_err,\"Test RMSE is\",test_err) \n"
   ]
  },
  {
   "cell_type": "code",
   "execution_count": 15,
   "metadata": {},
   "outputs": [],
   "source": [
    "\n",
    "reg = pd.read_excel('real_estate.xlsx')\n",
    "features = reg.columns\n",
    "X,Y = reg[features[1:-1]].values.tolist(), reg[features[-1]].values.tolist()\n",
    "\n",
    "train_x, test_x, train_y, test_y = train_test_split(X, Y, test_size=0.33, random_state=42)"
   ]
  },
  {
   "cell_type": "code",
   "execution_count": 16,
   "metadata": {},
   "outputs": [
    {
     "data": {
      "text/plain": [
       "7.700172210290269"
      ]
     },
     "execution_count": 16,
     "metadata": {},
     "output_type": "execute_result"
    }
   ],
   "source": [
    "#Q2 Showing usage on dataset.\n",
    "neigh = KNeighborsRegressor(n_neighbors=3)\n",
    "neigh.fit(train_x,train_y)\n",
    "result = neigh.predict(test_x)\n",
    "accuracy_reg(result,test_y)"
   ]
  },
  {
   "cell_type": "code",
   "execution_count": null,
   "metadata": {},
   "outputs": [],
   "source": [
    "\n"
   ]
  },
  {
   "cell_type": "code",
   "execution_count": 9,
   "metadata": {},
   "outputs": [
    {
     "name": "stdout",
     "output_type": "stream",
     "text": [
      "Fold 1: optimal K is 2 Train RMSE 4.600409854929595  Validation RMSE is 11.091026778436703 Test RMSE is 7.468010726460315\n",
      "Fold 2: optimal K is 5 Train RMSE 7.3777523677607935  Validation RMSE is 6.768279939049015 Test RMSE is 8.04437124776883\n",
      "Fold 3: optimal K is 3 Train RMSE 6.31189390196236  Validation RMSE is 7.048297666812887 Test RMSE is 7.489353717331945\n",
      "Fold 4: optimal K is 9 Train RMSE 8.039121326850275  Validation RMSE is 7.798393709248362 Test RMSE is 7.877602158513376\n",
      "Fold 5: optimal K is 4 Train RMSE 7.009578268341112  Validation RMSE is 7.819879847755548 Test RMSE is 7.907503237820416\n"
     ]
    }
   ],
   "source": [
    "#Q2(a) 5 fold cross validation on dataset. \n",
    "\n",
    "reg = pd.read_excel('real_estate.xlsx')\n",
    "features = reg.columns\n",
    "X,Y = reg[features[1:-1]].values.tolist(), reg[features[-1]].values.tolist()\n",
    "\n",
    "train_x, test_x, train_y, test_y = train_test_split(X, Y, test_size=0.275, random_state=42)\n",
    "\n",
    "train_x, test_x, train_y, test_y = train_test_split(X, Y, test_size=0.275, random_state=42)\n",
    "cross_validate(train_x,train_y,test_x,test_y) "
   ]
  },
  {
   "cell_type": "code",
   "execution_count": 10,
   "metadata": {},
   "outputs": [
    {
     "name": "stdout",
     "output_type": "stream",
     "text": [
      "Fold 1: optimal K is 7 Train RMSE 0.06138417727487144  Validation RMSE is 0.10713887797606848 Test RMSE is 0.06914422484975027\n",
      "Fold 2: optimal K is 3 Train RMSE 0.06835085805074098  Validation RMSE is 0.06350181071651953 Test RMSE is 0.0686091358125672\n",
      "Fold 3: optimal K is 9 Train RMSE 0.073706851675385  Validation RMSE is 0.07870893249580158 Test RMSE is 0.06897647253459445\n",
      "Fold 4: optimal K is 7 Train RMSE 0.07193501863354858  Validation RMSE is 0.06626292675032029 Test RMSE is 0.070360185164435\n",
      "Fold 5: optimal K is 8 Train RMSE 0.07175543587188596  Validation RMSE is 0.07519486929550498 Test RMSE is 0.07170773544757468\n"
     ]
    },
    {
     "name": "stderr",
     "output_type": "stream",
     "text": [
      "c:\\users\\abhinav\\appdata\\local\\programs\\python\\python36\\lib\\site-packages\\sklearn\\preprocessing\\data.py:323: DataConversionWarning: Data with input dtype int64, float64 were all converted to float64 by MinMaxScaler.\n",
      "  return self.partial_fit(X, y)\n"
     ]
    }
   ],
   "source": [
    "#Q2(b) Now scaling the features between 0 and 1\n",
    "reg = pd.read_excel('real_estate.xlsx')\n",
    "features = reg.columns\n",
    "scaler = MinMaxScaler()\n",
    "scaler.fit(reg)\n",
    "reg = scaler.transform(reg)\n",
    "X,Y = reg[:,1:-1],reg[:,-1]\n",
    "train_x, test_x, train_y, test_y = train_test_split(X, Y, test_size=0.275, random_state=42)\n",
    "train_x, test_x, train_y, test_y = train_x.tolist(), test_x.tolist(),train_y.tolist(),test_y.tolist() \n",
    "cross_validate(train_x,train_y,test_x,test_y) "
   ]
  },
  {
   "cell_type": "code",
   "execution_count": 11,
   "metadata": {},
   "outputs": [
    {
     "data": {
      "text/plain": [
       "Text(0.5, 1.0, 'Test Error v/s K')"
      ]
     },
     "execution_count": 11,
     "metadata": {},
     "output_type": "execute_result"
    },
    {
     "data": {
      "image/png": "[encoded data removed]",
      "text/plain": [
       "<Figure size 432x288 with 1 Axes>"
      ]
     },
     "metadata": {
      "needs_background": "light"
     },
     "output_type": "display_data"
    }
   ],
   "source": [
    "#Q2(c) Plotting test error as a function of K \n",
    "train_x, test_x, train_y, test_y = train_test_split(X, Y, test_size=0.2, random_state=42)\n",
    "acc_list = [] \n",
    "k = range(1,50) \n",
    "for i in k :\n",
    "    neigh = KNeighborsRegressor(n_neighbors=i)\n",
    "    neigh.fit(train_x,train_y)\n",
    "    result = neigh.predict(test_x)\n",
    "    acc = accuracy_reg(result,test_y)\n",
    "    acc_list.append(acc)\n",
    "plt.plot(k, acc_list)\n",
    "plt.xlabel('Number of neigbours')\n",
    "plt.ylabel('Error on normalized dataset')\n",
    "plt.title('Test Error v/s K')"
   ]
  },
  {
   "cell_type": "code",
   "execution_count": 12,
   "metadata": {},
   "outputs": [
    {
     "data": {
      "image/png": "[encoded data removed]",
      "text/plain": [
       "<Figure size 432x288 with 1 Axes>"
      ]
     },
     "metadata": {
      "needs_background": "light"
     },
     "output_type": "display_data"
    }
   ],
   "source": [
    "#Q2(c) Plotting train error as a function of K\n",
    "acc_list = []\n",
    "k = range(1,50)\n",
    "acc_list = []\n",
    "for i in k: \n",
    "    neigh = KNeighborsRegressor(n_neighbors=i) \n",
    "    neigh.fit(train_x,train_y)\n",
    "    result = neigh.predict(train_x)\n",
    "    acc = accuracy_reg(result,train_y)\n",
    "    acc_list.append(acc) \n",
    "#Plotting test error curve.\n",
    "plt.plot(k,acc_list)\n",
    "plt.xlabel('Number of Neigbors')\n",
    "plt.ylabel('Error on normalized dataset')\n",
    "plt.title('Train Error v/s K')\n",
    "acc_list = []\n"
   ]
  },
  {
   "cell_type": "code",
   "execution_count": 13,
   "metadata": {},
   "outputs": [
    {
     "name": "stdout",
     "output_type": "stream",
     "text": [
      "the home which shows max error is 102\n",
      "the error is 32.588888888888896\n",
      "feature values are [2013.3333333, 14.8, 393.2606, 6.0, 24.96172, 121.53812]\n",
      "the new error is 0.2984531392174704\n",
      "feature values are [0.72727271 0.33789954 0.05721554 0.6        0.35930683 0.69646323]\n"
     ]
    },
    {
     "name": "stderr",
     "output_type": "stream",
     "text": [
      "c:\\users\\abhinav\\appdata\\local\\programs\\python\\python36\\lib\\site-packages\\sklearn\\preprocessing\\data.py:323: DataConversionWarning: Data with input dtype int64, float64 were all converted to float64 by MinMaxScaler.\n",
      "  return self.partial_fit(X, y)\n"
     ]
    }
   ],
   "source": [
    "#Q2(c) (i) Let's use a value of K = 9\n",
    "reg = pd.read_excel('real_estate.xlsx')\n",
    "features = reg.columns\n",
    "X,Y = reg[features[1:-1]].values.tolist(), reg[features[-1]].values.tolist()\n",
    "\n",
    "train_x, test_x, train_y, test_y = train_test_split(X, Y, test_size=0.275, random_state=42)\n",
    "\n",
    "neigh = KNeighborsRegressor(n_neighbors=9)\n",
    "neigh.fit(train_x,train_y)\n",
    "result = neigh.predict(test_x)\n",
    "loc = np.argmax(np.abs(result-test_y))\n",
    "error = (np.abs(result-test_y))[loc]\n",
    "home = test_x[loc]\n",
    "print(\"the home which shows max error is\", loc)\n",
    "print(\"the error is\",error)\n",
    "print(\"feature values are\",home)\n",
    "\n",
    "#After normalizing. \n",
    "\n",
    "\n",
    "reg = pd.read_excel('real_estate.xlsx')\n",
    "features = reg.columns\n",
    "scaler = MinMaxScaler()\n",
    "scaler.fit(reg)\n",
    "reg = scaler.transform(reg)\n",
    "X,Y = reg[:,1:-1],reg[:,-1]\n",
    "train_x, test_x, train_y, test_y = train_test_split(X, Y, test_size=0.275, random_state=42)\n",
    "\n",
    "\n",
    "neigh = KNeighborsRegressor(n_neighbors=9)\n",
    "neigh.fit(train_x,train_y)\n",
    "result = neigh.predict(test_x)\n",
    "error = (np.abs(result-test_y))[loc]\n",
    "home = test_x[loc]\n",
    "\n",
    "print\n",
    "print(\"the new error is\",error)\n",
    "print(\"feature values are\",home)\n"
   ]
  },
  {
   "cell_type": "code",
   "execution_count": null,
   "metadata": {},
   "outputs": [],
   "source": []
  },
  {
   "cell_type": "code",
   "execution_count": null,
   "metadata": {},
   "outputs": [],
   "source": []
  },
  {
   "cell_type": "code",
   "execution_count": null,
   "metadata": {},
   "outputs": [],
   "source": []
  },
  {
   "cell_type": "code",
   "execution_count": null,
   "metadata": {},
   "outputs": [],
   "source": []
  }
 ],
 "metadata": {
  "kernelspec": {
   "display_name": "Python 3",
   "language": "python",
   "name": "python3"
  },
  "language_info": {
   "codemirror_mode": {
    "name": "ipython",
    "version": 3
   },
   "file_extension": ".py",
   "mimetype": "text/x-python",
   "name": "python",
   "nbconvert_exporter": "python",
   "pygments_lexer": "ipython3",
   "version": "3.6.7"
  }
 },
 "nbformat": 4,
 "nbformat_minor": 2
}
