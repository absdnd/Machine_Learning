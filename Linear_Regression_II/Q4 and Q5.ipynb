{
 "cells": [
  {
   "cell_type": "code",
   "execution_count": 1,
   "metadata": {},
   "outputs": [],
   "source": [
    "import numpy as np\n",
    "from sklearn import linear_model\n",
    "import pandas as pd\n",
    "from sklearn.metrics import mean_squared_error\n",
    "import matplotlib.pyplot as plt"
   ]
  },
  {
   "cell_type": "code",
   "execution_count": 2,
   "metadata": {},
   "outputs": [],
   "source": [
    "def validate_lasso(p,train,validate,test):\n",
    "    features = train.columns\n",
    "    train_x = train[features[:-1]]\n",
    "    train_y = train[features[-1]]\n",
    "    validate_x = validate[features[:-1]]\n",
    "    validate_y = validate[features[-1]]\n",
    "    test_x = test[features[:-1]]\n",
    "    test_y = test[features[-1]]\n",
    "    \n",
    "    opt_v = 100000\n",
    "    opt_alpha = 0\n",
    "    \n",
    "    for i in p: \n",
    "        \n",
    "        reg = linear_model.Lasso(alpha=i/10.)\n",
    "        reg.fit(train_x,train_y)\n",
    "        mse_tr = score(train_x,train_y,reg)\n",
    "        mse_v = score(validate_x,validate_y, reg)\n",
    "        mse_t = score(test_x,test_y,reg)\n",
    "        if(mse_v < opt_v): \n",
    "            opt_t = mse_t\n",
    "            opt_v = mse_v\n",
    "            opt_tr = mse_tr\n",
    "            opt_alpha = i/10.\n",
    "    \n",
    "    return opt_alpha,opt_tr,opt_v,opt_t\n",
    "        \n",
    "         \n",
    "    "
   ]
  },
  {
   "cell_type": "code",
   "execution_count": 3,
   "metadata": {},
   "outputs": [],
   "source": [
    "def score(test_x,test_y,lm):\n",
    "    prediction = lm.predict(test_x)\n",
    "    error = mean_squared_error(prediction,test_y)\n",
    "    return error**0.5"
   ]
  },
  {
   "cell_type": "code",
   "execution_count": 4,
   "metadata": {},
   "outputs": [],
   "source": [
    "def divide_data(dataset):\n",
    "    attr = dataset.columns\n",
    "    train = []\n",
    "    test = []\n",
    "    for index,row in dataset.iterrows():\n",
    "        if(index%3==0):\n",
    "            test.append(row)\n",
    "        else: \n",
    "            train.append(row)\n",
    "    return pd.DataFrame(train),pd.DataFrame(test)"
   ]
  },
  {
   "cell_type": "code",
   "execution_count": 5,
   "metadata": {},
   "outputs": [],
   "source": [
    "def validate_data(p,train,validate,test):\n",
    "    features = train.columns\n",
    "    train_x = train[features[:-1]]\n",
    "    train_y = train[features[-1]]\n",
    "    validate_x = validate[features[:-1]]\n",
    "    validate_y = validate[features[-1]]\n",
    "    test_x = test[features[:-1]]\n",
    "    test_y = test[features[-1]]\n",
    "    \n",
    "    opt_v = 100000\n",
    "    opt_alpha = 0\n",
    "    \n",
    "    for i in p: \n",
    "        \n",
    "        reg = linear_model.Ridge(alpha=i/10.)\n",
    "        reg.fit(train_x,train_y)\n",
    "        mse_tr = score(train_x,train_y,reg)\n",
    "        mse_v = score(validate_x,validate_y, reg)\n",
    "        mse_t = score(test_x,test_y,reg)\n",
    "        if(mse_v < opt_v): \n",
    "            opt_t = mse_t\n",
    "            opt_v = mse_v\n",
    "            opt_tr = mse_tr\n",
    "            opt_alpha = i/10.\n",
    "    \n",
    "    return opt_alpha,opt_tr,opt_v,opt_t\n",
    "        \n",
    "         \n",
    "    "
   ]
  },
  {
   "cell_type": "code",
   "execution_count": 6,
   "metadata": {},
   "outputs": [
    {
     "name": "stdout",
     "output_type": "stream",
     "text": [
      "Yes the coefficients found are [0.26648901 0.53297801]\n"
     ]
    }
   ],
   "source": [
    "#Q4 Fitting a Ridge regression model on the data.\n",
    "reg = linear_model.Ridge(alpha = 0.5)\n",
    "X = np.array([[1,2],[2,4],[3,6],[4,8]])\n",
    "Y = np.array([2,3,4,5])\n",
    "reg.fit(X,Y)\n",
    "lamb = 0.1\n",
    "\n",
    "#Finding the coefficient using normal regresssion.\n",
    "A = np.linalg.inv(np.dot(X.T,X)+lamb*np.identity(len(X[0])))\n",
    "B = np.dot(X.T,Y)\n",
    "theta_opt = np.dot(A,B)\n",
    "print(\"Yes the coefficients found are\",theta_opt)"
   ]
  },
  {
   "cell_type": "code",
   "execution_count": 7,
   "metadata": {},
   "outputs": [
    {
     "name": "stdout",
     "output_type": "stream",
     "text": [
      "Fold 1: alpha =  0.1  train_error  0.0676928836621582 validation_error  0.0660899656599208 test_error  0.10152721536571993\n",
      "Fold 2: alpha =  1.7  train_error  0.0696383677880782 validation_error  0.060275317637527207 test_error  0.1021334171464435\n",
      "Fold 3: alpha =  0.1  train_error  0.06638078586626248 validation_error  0.07131652998986684 test_error  0.10145761853180667\n",
      "Fold 4: alpha =  1.6  train_error  0.06770996751489597 validation_error  0.06827701090725136 test_error  0.10204749159713106\n",
      "Fold 5: alpha =  0.1  train_error  0.0659749978243862 validation_error  0.07316146427506093 test_error  0.10187277803907024\n"
     ]
    }
   ],
   "source": [
    "\n",
    "#Q5(a) 5 fold cross validation using Ridge regression: \n",
    "\n",
    "\n",
    "real_estate = pd.read_excel('real_estate.xlsx')\n",
    "features = real_estate.columns\n",
    "p = range(1,100)\n",
    "\n",
    "normalized = pd.DataFrame(columns = features)\n",
    "for f in features:\n",
    "    normalized[f] = real_estate[f]/max(real_estate[f])\n",
    "    \n",
    "normalized = normalized.sample(frac=1)\n",
    "    \n",
    "test = normalized[300:]\n",
    "train_and_validate = normalized[:300]\n",
    "\n",
    "\n",
    "\n",
    "train = train_and_validate[60:]\n",
    "validate = train_and_validate[:60]\n",
    "alpha,train_error,validate_error,test_error = validate_data(p,train,validate,test)\n",
    "print(\"Fold 1: alpha = \",alpha,\" train_error \", train_error, \"validation_error \", validate_error,\"test_error \",test_error)\n",
    "\n",
    "train_1 = train_and_validate[:60]\n",
    "train_2 = train_and_validate[120:]\n",
    "validate = train_and_validate[60:120]\n",
    "train = pd.concat([train_1,train_2])\n",
    "alpha,train_error,validate_error,test_error = validate_data(p,train,validate,test)\n",
    "print(\"Fold 2: alpha = \",alpha,\" train_error \", train_error, \"validation_error \", validate_error,\"test_error \",test_error)\n",
    "\n",
    "train_1 = train_and_validate[:120]\n",
    "train_2 = train_and_validate[180:]\n",
    "validate = train_and_validate[120:180]\n",
    "train = pd.concat([train_1,train_2])\n",
    "alpha,train_error,validate_error,test_error = validate_data(p,train,validate,test)\n",
    "print(\"Fold 3: alpha = \",alpha,\" train_error \", train_error, \"validation_error \", validate_error,\"test_error \",test_error)\n",
    "\n",
    "train_1 = train_and_validate[:180]\n",
    "train_2 = train_and_validate[240:]\n",
    "train = pd.concat([train_1,train_2])\n",
    "validate = train_and_validate[180:240]\n",
    "alpha,train_error,validate_error,test_error = validate_data(p,train,validate,test)\n",
    "print(\"Fold 4: alpha = \",alpha,\" train_error \", train_error, \"validation_error \", validate_error,\"test_error \",test_error)\n",
    "\n",
    "train = train_and_validate[:240]\n",
    "validate = train_and_validate[240:]\n",
    "alpha,train_error,validate_error,test_error = validate_data(p,train,validate,test)\n",
    "print(\"Fold 5: alpha = \",alpha,\" train_error \", train_error, \"validation_error \", validate_error,\"test_error \",test_error)"
   ]
  },
  {
   "cell_type": "code",
   "execution_count": null,
   "metadata": {},
   "outputs": [],
   "source": [
    "\n"
   ]
  },
  {
   "cell_type": "code",
   "execution_count": 8,
   "metadata": {},
   "outputs": [
    {
     "name": "stdout",
     "output_type": "stream",
     "text": [
      "Fold 1: alpha =  0.1  train_error  0.03498453217105051 validation_error  0.02954584721067199 test_error  0.029617757213672716\n",
      "Fold 2: alpha =  0.1  train_error  0.03393094715468191 validation_error  0.034072556307523406 test_error  0.02964278557796495\n",
      "Fold 3: alpha =  0.1  train_error  0.03403799156377832 validation_error  0.03404568618604319 test_error  0.029939318047756548\n",
      "Fold 4: alpha =  0.1  train_error  0.034676199750236086 validation_error  0.030921202811650148 test_error  0.029686151246493053\n",
      "Fold 5: alpha =  0.1  train_error  0.03194993581526682 validation_error  0.041149944843121115 test_error  0.02959109236770415\n"
     ]
    }
   ],
   "source": [
    "#Q5(b)5 fold cross validation using Lasso regression: \n",
    "\n",
    "\n",
    "real_estate = pd.read_excel('real_estate.xlsx')\n",
    "features = real_estate.columns\n",
    "p = range(1,100)\n",
    "normalized = pd.DataFrame(columns = features)\n",
    "for f in features:\n",
    "    normalized[f] = real_estate[f]/len(real_estate)\n",
    "    \n",
    "normalized = normalized.sample(frac=1)\n",
    "    \n",
    "test = normalized[300:]\n",
    "train_and_validate = normalized[:300]\n",
    "\n",
    "\n",
    "\n",
    "train = train_and_validate[60:]\n",
    "validate = train_and_validate[:60]\n",
    "alpha,train_error,validate_error,test_error = validate_lasso(p,train,validate,test)\n",
    "print(\"Fold 1: alpha = \",alpha,\" train_error \", train_error, \"validation_error \", validate_error,\"test_error \",test_error)\n",
    "\n",
    "train_1 = train_and_validate[:60]\n",
    "train_2 = train_and_validate[120:]\n",
    "validate = train_and_validate[60:120]\n",
    "train = pd.concat([train_1,train_2])\n",
    "alpha,train_error,validate_error,test_error = validate_lasso(p,train,validate,test)\n",
    "print(\"Fold 2: alpha = \",alpha,\" train_error \", train_error, \"validation_error \", validate_error,\"test_error \",test_error)\n",
    "\n",
    "train_1 = train_and_validate[:120]\n",
    "train_2 = train_and_validate[180:]\n",
    "validate = train_and_validate[120:180]\n",
    "train = pd.concat([train_1,train_2])\n",
    "alpha,train_error,validate_error,test_error = validate_lasso(p,train,validate,test)\n",
    "print(\"Fold 3: alpha = \",alpha,\" train_error \", train_error, \"validation_error \", validate_error,\"test_error \",test_error)\n",
    "\n",
    "train_1 = train_and_validate[:180]\n",
    "train_2 = train_and_validate[240:]\n",
    "train = pd.concat([train_1,train_2])\n",
    "validate = train_and_validate[180:240]\n",
    "alpha,train_error,validate_error,test_error = validate_lasso(p,train,validate,test)\n",
    "print(\"Fold 4: alpha = \",alpha,\" train_error \", train_error, \"validation_error \", validate_error,\"test_error \",test_error)\n",
    "\n",
    "train = train_and_validate[:240]\n",
    "validate = train_and_validate[240:]\n",
    "alpha,train_error,validate_error,test_error = validate_lasso(p,train,validate,test)\n",
    "print(\"Fold 5: alpha = \",alpha,\" train_error \", train_error, \"validation_error \", validate_error,\"test_error \",test_error)"
   ]
  },
  {
   "cell_type": "code",
   "execution_count": null,
   "metadata": {},
   "outputs": [],
   "source": []
  },
  {
   "cell_type": "code",
   "execution_count": 9,
   "metadata": {},
   "outputs": [
    {
     "data": {
      "image/png": "[encoded data removed]",
      "text/plain": [
       "<Figure size 432x288 with 1 Axes>"
      ]
     },
     "metadata": {
      "needs_background": "light"
     },
     "output_type": "display_data"
    }
   ],
   "source": [
    "#Q5(c)Regularization path for ridge regression\n",
    "\n",
    "features = real_estate.columns\n",
    "plot_features = ['X1 transaction date', 'X2 house age','X3 distance to the nearest MRT station','X4 number of convenience stores']\n",
    "real_estate = pd.read_excel('real_estate.xlsx')\n",
    "\n",
    "normalized = pd.DataFrame(columns = features)\n",
    "for f in features:\n",
    "    normalized[f] = real_estate[f]/max(real_estate[f])\n",
    "    \n",
    "p = range(1000)\n",
    "coef_list  = [[],[],[]]\n",
    "for i in p:\n",
    "    normalized_x = normalized[features[:-1]]\n",
    "    normalized_y = normalized[features[-1]]\n",
    "    reg = linear_model.Ridge(alpha = i)\n",
    "    reg.fit(normalized_x,normalized_y)\n",
    "    for i in range(2,5): \n",
    "        coef_list[i-2].append(reg.coef_[i])\n",
    "\n",
    "\n",
    "for i in range(0,3): \n",
    "    plt.plot(p,coef_list[i])\n",
    "    \n",
    "plt.xlabel('value of lambda')\n",
    "plt.ylabel('value of the variable')\n",
    "plt.show()\n"
   ]
  },
  {
   "cell_type": "code",
   "execution_count": 10,
   "metadata": {},
   "outputs": [
    {
     "name": "stderr",
     "output_type": "stream",
     "text": [
      "c:\\users\\abhinav\\appdata\\local\\programs\\python\\python36\\lib\\site-packages\\ipykernel_launcher.py:17: UserWarning: With alpha=0, this algorithm does not converge well. You are advised to use the LinearRegression estimator\n",
      "c:\\users\\abhinav\\appdata\\local\\programs\\python\\python36\\lib\\site-packages\\sklearn\\linear_model\\coordinate_descent.py:478: UserWarning: Coordinate descent with no regularization may lead to unexpected results and is discouraged.\n",
      "  positive)\n",
      "c:\\users\\abhinav\\appdata\\local\\programs\\python\\python36\\lib\\site-packages\\sklearn\\linear_model\\coordinate_descent.py:492: ConvergenceWarning: Objective did not converge. You might want to increase the number of iterations. Fitting data with very small alpha may cause precision problems.\n",
      "  ConvergenceWarning)\n"
     ]
    },
    {
     "data": {
      "image/png": "[encoded data removed]",
      "text/plain": [
       "<Figure size 432x288 with 1 Axes>"
      ]
     },
     "metadata": {
      "needs_background": "light"
     },
     "output_type": "display_data"
    }
   ],
   "source": [
    "#Q5(c) Regularization path for Lasso regression \n",
    "\n",
    "\n",
    "features = real_estate.columns\n",
    "real_estate = pd.read_excel('real_estate.xlsx')\n",
    "\n",
    "normalized = pd.DataFrame(columns = features)\n",
    "for f in features:\n",
    "    normalized[f] = real_estate[f]/max(real_estate[f])\n",
    "    \n",
    "p = range(500)\n",
    "coef_list  = [[],[],[]]\n",
    "for i in p:\n",
    "    normalized_x = normalized[features[:-1]]\n",
    "    normalized_y = normalized[features[-1]]\n",
    "    reg = linear_model.Lasso(alpha = i/10000.,max_iter = 1000)\n",
    "    reg.fit(normalized_x,normalized_y)\n",
    "    for i in range(2,5): \n",
    "        coef_list[i-2].append(reg.coef_[i])\n",
    "\n",
    "\n",
    "for i in range(0,3): \n",
    "    plt.plot(p,coef_list[i])\n",
    "    \n",
    "plt.xlabel('value of lambda')\n",
    "plt.ylabel('value of the variable')\n",
    "plt.show()\n"
   ]
  },
  {
   "cell_type": "code",
   "execution_count": 11,
   "metadata": {},
   "outputs": [
    {
     "data": {
      "image/png": "[encoded data removed]",
      "text/plain": [
       "<Figure size 432x288 with 1 Axes>"
      ]
     },
     "metadata": {
      "needs_background": "light"
     },
     "output_type": "display_data"
    }
   ],
   "source": [
    "#Q5(d)Plotting the Accuracy v/s the value of lambda for Ridge Regression\n",
    "real_estate = pd.read_excel('real_estate.xlsx')\n",
    "\n",
    "real_estate = real_estate.sample(frac=1)\n",
    "\n",
    "features = real_estate.columns\n",
    "\n",
    "normalized = pd.DataFrame(columns = features)\n",
    "for f in features:\n",
    "    normalized[f] = real_estate[f]/max(real_estate[f])\n",
    "\n",
    "\n",
    "\n",
    "train,test = divide_data(normalized)\n",
    "\n",
    "features = train.columns[1:]\n",
    "\n",
    "train_x = train[features[:-1]]\n",
    "train_y = train[features[-1]]\n",
    "test_x = test[features[:-1]]\n",
    "test_y = test[features[-1]]\n",
    "p = range(100)\n",
    "acc_train = []\n",
    "acc_test = []\n",
    "for i in p:\n",
    "    lm = linear_model.Ridge(alpha = i)\n",
    "    lm.fit(train_x,train_y)\n",
    "    accuracy_test = score(test_x,test_y,lm)\n",
    "    accuracy_train = score(train_x,train_y,lm)\n",
    "    acc_test.append(accuracy_test) \n",
    "    acc_train.append(accuracy_train)\n",
    "\n",
    "plt.plot(p,acc_train)\n",
    "plt.plot(p,acc_test)\n",
    "\n",
    "plt.legend(['train','test'], loc='upper left')\n",
    "plt.ylabel('Accuracy')\n",
    "plt.xlabel('value of lambda')\n",
    "plt.show()"
   ]
  },
  {
   "cell_type": "code",
   "execution_count": 12,
   "metadata": {},
   "outputs": [
    {
     "name": "stderr",
     "output_type": "stream",
     "text": [
      "c:\\users\\abhinav\\appdata\\local\\programs\\python\\python36\\lib\\site-packages\\ipykernel_launcher.py:25: UserWarning: With alpha=0, this algorithm does not converge well. You are advised to use the LinearRegression estimator\n",
      "c:\\users\\abhinav\\appdata\\local\\programs\\python\\python36\\lib\\site-packages\\sklearn\\linear_model\\coordinate_descent.py:478: UserWarning: Coordinate descent with no regularization may lead to unexpected results and is discouraged.\n",
      "  positive)\n",
      "c:\\users\\abhinav\\appdata\\local\\programs\\python\\python36\\lib\\site-packages\\sklearn\\linear_model\\coordinate_descent.py:492: ConvergenceWarning: Objective did not converge. You might want to increase the number of iterations. Fitting data with very small alpha may cause precision problems.\n",
      "  ConvergenceWarning)\n"
     ]
    },
    {
     "data": {
      "image/png": "[encoded data removed]",
      "text/plain": [
       "<Figure size 432x288 with 1 Axes>"
      ]
     },
     "metadata": {
      "needs_background": "light"
     },
     "output_type": "display_data"
    }
   ],
   "source": [
    "#Q5(d) Plotting the Accuracy v/s the value of lambda for Lasso regression \n",
    "\n",
    "real_estate = pd.read_excel('real_estate.xlsx')\n",
    "real_estate = real_estate.sample(frac=1)\n",
    "\n",
    "features = real_estate.columns\n",
    "\n",
    "normalized = pd.DataFrame(columns = features)\n",
    "for f in features:\n",
    "    normalized[f] = real_estate[f]/max(real_estate[f])\n",
    "\n",
    "\n",
    "features = train.columns[1:]\n",
    "train,test = divide_data(normalized)\n",
    "train_x = train[features[:-1]]\n",
    "train_y = train[features[-1]]\n",
    "test_x = test[features[:-1]]\n",
    "test_y = test[features[-1]]\n",
    "p = range(1000)\n",
    "p = [i/1000 for i in p]\n",
    "acc_train = []\n",
    "acc_test = []\n",
    "for i in p:\n",
    "    lm = linear_model.Lasso(alpha = i)\n",
    "    lm.fit(train_x,train_y)\n",
    "    accuracy_test = score(test_x,test_y,lm)\n",
    "    accuracy_train = score(train_x,train_y,lm)\n",
    "    acc_test.append(accuracy_test) \n",
    "    acc_train.append(accuracy_train)\n",
    "\n",
    "plt.plot(p,acc_train)\n",
    "plt.plot(p,acc_test)\n",
    "\n",
    "plt.legend(['train','test'], loc='upper left')\n",
    "plt.ylabel('Mean Square Error')\n",
    "plt.xlabel('value of lambda')\n",
    "plt.show()"
   ]
  },
  {
   "cell_type": "code",
   "execution_count": null,
   "metadata": {},
   "outputs": [],
   "source": []
  },
  {
   "cell_type": "code",
   "execution_count": null,
   "metadata": {},
   "outputs": [],
   "source": []
  },
  {
   "cell_type": "code",
   "execution_count": null,
   "metadata": {},
   "outputs": [],
   "source": []
  }
 ],
 "metadata": {
  "kernelspec": {
   "display_name": "Python 3",
   "language": "python",
   "name": "python3"
  },
  "language_info": {
   "codemirror_mode": {
    "name": "ipython",
    "version": 3
   },
   "file_extension": ".py",
   "mimetype": "text/x-python",
   "name": "python",
   "nbconvert_exporter": "python",
   "pygments_lexer": "ipython3",
   "version": "3.6.7"
  }
 },
 "nbformat": 4,
 "nbformat_minor": 2
}
