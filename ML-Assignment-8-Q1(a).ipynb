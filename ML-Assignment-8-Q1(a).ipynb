{
 "cells": [
  {
   "cell_type": "code",
   "execution_count": 27,
   "metadata": {},
   "outputs": [],
   "source": [
    "import autograd.numpy as np\n",
    "import pandas as pd\n",
    "from autograd import grad\n",
    "import matplotlib.pyplot as plt"
   ]
  },
  {
   "cell_type": "code",
   "execution_count": 28,
   "metadata": {},
   "outputs": [],
   "source": [
    "df = pd.read_csv('iris.csv')\n",
    "df = df.sample(frac = 1)\n",
    "df = df.drop(['sepal_width','petal_length'], axis = 1)\n",
    "\n",
    "samples = len(df)\n",
    "df['species'] = df['species'].mask(df['species'] != 'setosa',0)\n",
    "df['species'] = df['species'].mask(df['species'] == 'setosa',1)"
   ]
  },
  {
   "cell_type": "code",
   "execution_count": null,
   "metadata": {},
   "outputs": [],
   "source": []
  },
  {
   "cell_type": "code",
   "execution_count": 29,
   "metadata": {},
   "outputs": [],
   "source": [
    "Y  = df['species'].values.tolist()\n",
    "Xtrain = df[['sepal_length','petal_width']][:100].values.tolist()\n",
    "Xtest = df[['sepal_length','petal_width']][100:].values.tolist()\n",
    "Ytrain = Y[:100]\n",
    "Ytest = Y[100:]"
   ]
  },
  {
   "cell_type": "code",
   "execution_count": 30,
   "metadata": {},
   "outputs": [],
   "source": [
    "def sigmoid(val): \n",
    "    return  1./(1+np.exp(-1.0*val))\n",
    "    "
   ]
  },
  {
   "cell_type": "code",
   "execution_count": 31,
   "metadata": {},
   "outputs": [],
   "source": [
    "def accuracy(Xtest,Ytest,w_ch): \n",
    "    accuracy = 0.\n",
    "    wi = w_ch[:-1]\n",
    "    bi = w_ch[-1]\n",
    "    for i in range(len(Xtest)):\n",
    "        Xi = np.asarray(Xtest[i])\n",
    "        val = np.dot(Xi,wi)+bi\n",
    "        if(Ytest[i] == prediction(val)):\n",
    "            accuracy+=1.\n",
    "    return accuracy/len(Xtest)"
   ]
  },
  {
   "cell_type": "code",
   "execution_count": 32,
   "metadata": {},
   "outputs": [],
   "source": [
    "def classes(X1,X2,Y):\n",
    "    X1_setosa = [] \n",
    "    X1_not_setosa = [] \n",
    "    X2_setosa = []\n",
    "    X2_not_setosa = []\n",
    "   \n",
    "    \n",
    "    for i in range(len(X1)): \n",
    "        if(Y[i] == 1): \n",
    "            X1_setosa.append(X1[i])\n",
    "            X2_setosa.append(X2[i])\n",
    "       \n",
    "        \n",
    "    \n",
    "        elif(Y[i]==0): \n",
    "            X1_not_setosa.append(X1[i])\n",
    "            X2_not_setosa.append(X2[i])\n",
    "        \n",
    "    \n",
    "     \n",
    "        \n",
    "    return X1_setosa,X1_not_setosa,X2_setosa,X2_not_setosa"
   ]
  },
  {
   "cell_type": "markdown",
   "metadata": {},
   "source": [
    "# (i) Writing a function for Gradient Descent"
   ]
  },
  {
   "cell_type": "code",
   "execution_count": 33,
   "metadata": {},
   "outputs": [],
   "source": [
    "def cost(p):\n",
    "    w = p[:-1]\n",
    "    b = p[-1]\n",
    "    loss = 0\n",
    "    for i in range(len(Xtrain)): \n",
    "        Xi = np.asarray(Xtrain[i])\n",
    "        Yi_hat = sigmoid(np.dot(w,Xi) + b)\n",
    "        Yi = Ytrain[i]\n",
    "        loss = loss + (-1.0)*(Yi*np.log(Yi_hat) + (1-Yi)*np.log(1-Yi_hat))\n",
    "        \n",
    "    return loss\n",
    "        "
   ]
  },
  {
   "cell_type": "code",
   "execution_count": 34,
   "metadata": {},
   "outputs": [],
   "source": [
    "def gradient_descent(alpha,num_iterations,Xtrain,Ytrain):\n",
    "    w_ch = np.zeros(len(Xtrain[0])+1)\n",
    "    gradients = grad(cost)\n",
    "    for i in range(num_iterations):\n",
    "        w_grad = gradients(w_ch)\n",
    "        w_ch -= alpha*w_grad\n",
    "    return w_ch"
   ]
  },
  {
   "cell_type": "code",
   "execution_count": 35,
   "metadata": {},
   "outputs": [],
   "source": [
    "def prediction(val): \n",
    "    if(sigmoid(val)>0.5): \n",
    "        return 1\n",
    "    else:\n",
    "        return 0"
   ]
  },
  {
   "cell_type": "markdown",
   "metadata": {},
   "source": [
    "\n",
    "# (ii)  Usage on IRIS dataset"
   ]
  },
  {
   "cell_type": "code",
   "execution_count": 23,
   "metadata": {},
   "outputs": [
    {
     "name": "stdout",
     "output_type": "stream",
     "text": [
      "the accuracy on IRIS dataset is  1.0\n"
     ]
    }
   ],
   "source": [
    "w_ch = gradient_descent(0.01,50,Xtrain,Ytrain)\n",
    "print(\"the accuracy on IRIS dataset is \", accuracy(Xtest,Ytest,w_ch))"
   ]
  },
  {
   "cell_type": "markdown",
   "metadata": {},
   "source": [
    "# (iii) Showing Decision Boundary"
   ]
  },
  {
   "cell_type": "code",
   "execution_count": 24,
   "metadata": {},
   "outputs": [],
   "source": [
    "X1 = df['sepal_length'].tolist()\n",
    "X2 = df['petal_width'].tolist()\n",
    "Y = df['species'].tolist()\n",
    "w1 = w_ch[0]\n",
    "w2 = w_ch[1]\n",
    "b  = w_ch[2]\n",
    "\n",
    "X1_setosa,X1_not_setosa,X2_setosa,X2_not_setosa = classes(X1,X2,Y)"
   ]
  },
  {
   "cell_type": "code",
   "execution_count": null,
   "metadata": {},
   "outputs": [],
   "source": []
  },
  {
   "cell_type": "code",
   "execution_count": 25,
   "metadata": {},
   "outputs": [
    {
     "data": {
      "text/plain": [
       "<matplotlib.legend.Legend at 0x1b1ffa2c400>"
      ]
     },
     "execution_count": 25,
     "metadata": {},
     "output_type": "execute_result"
    },
    {
     "data": {
      "image/png": "[encoded data removed]",
      "text/plain": [
       "<Figure size 432x288 with 1 Axes>"
      ]
     },
     "metadata": {
      "needs_background": "light"
     },
     "output_type": "display_data"
    }
   ],
   "source": [
    "fig = plt.figure()\n",
    "ax = plt.axes()\n",
    "\n",
    "x = np.linspace(0,8,100)\n",
    "y = (-b - w1*x)/w2\n",
    "ax.plot(x,y,linestyle = '-',color = 'black')\n",
    "plt.scatter(X1_setosa,X2_setosa,color = 'blue')\n",
    "plt.scatter(X1_not_setosa,X2_not_setosa,color = 'green')\n",
    "plt.title('Scatter plot of SVM')\n",
    "plt.xlabel('sepal length')\n",
    "plt.ylabel('petal width')\n",
    "plt.legend(['Margin','Setosa','Not_setosa'])"
   ]
  },
  {
   "cell_type": "markdown",
   "metadata": {},
   "source": [
    "#  (iv) Sklearn Logistic Regression"
   ]
  },
  {
   "cell_type": "code",
   "execution_count": 26,
   "metadata": {},
   "outputs": [
    {
     "name": "stdout",
     "output_type": "stream",
     "text": [
      "The accuracy of sklearn is  1.0\n"
     ]
    }
   ],
   "source": [
    "from sklearn.datasets import load_iris\n",
    "from sklearn.linear_model import LogisticRegression\n",
    "clf = LogisticRegression(random_state=0,solver='lbfgs').fit(Xtrain, Ytrain)\n",
    "Y_hat = clf.predict(Xtest)\n",
    "error = sum(abs(Y_hat - Ytest))\n",
    "accuracy = (len(Xtest)-error)/len(Xtest)\n",
    "print('The accuracy of sklearn is ',accuracy)"
   ]
  },
  {
   "cell_type": "code",
   "execution_count": null,
   "metadata": {},
   "outputs": [],
   "source": []
  },
  {
   "cell_type": "code",
   "execution_count": null,
   "metadata": {},
   "outputs": [],
   "source": []
  },
  {
   "cell_type": "code",
   "execution_count": null,
   "metadata": {},
   "outputs": [],
   "source": []
  },
  {
   "cell_type": "code",
   "execution_count": null,
   "metadata": {},
   "outputs": [],
   "source": []
  }
 ],
 "metadata": {
  "kernelspec": {
   "display_name": "Python 3",
   "language": "python",
   "name": "python3"
  },
  "language_info": {
   "codemirror_mode": {
    "name": "ipython",
    "version": 3
   },
   "file_extension": ".py",
   "mimetype": "text/x-python",
   "name": "python",
   "nbconvert_exporter": "python",
   "pygments_lexer": "ipython3",
   "version": "3.6.7"
  }
 },
 "nbformat": 4,
 "nbformat_minor": 2
}
