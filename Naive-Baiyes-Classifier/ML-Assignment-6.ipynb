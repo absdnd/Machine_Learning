{
 "cells": [
  {
   "cell_type": "code",
   "execution_count": 1,
   "metadata": {},
   "outputs": [],
   "source": [
    "import numpy as np\n",
    "import pandas as pd\n",
    "import random\n",
    "import matplotlib.pyplot as plt"
   ]
  },
  {
   "cell_type": "code",
   "execution_count": 2,
   "metadata": {},
   "outputs": [],
   "source": [
    "df = pd.read_csv('iris.csv')"
   ]
  },
  {
   "cell_type": "code",
   "execution_count": 3,
   "metadata": {},
   "outputs": [],
   "source": [
    "#Shuffling the dataset and dropping unimportant columns\n",
    "df = df.sample(frac = 1)\n",
    "df = df.drop(['sepal_width','petal_length'], axis = 1)"
   ]
  },
  {
   "cell_type": "code",
   "execution_count": 4,
   "metadata": {},
   "outputs": [],
   "source": [
    "train = df[:105]\n",
    "test = df[105:]"
   ]
  },
  {
   "cell_type": "code",
   "execution_count": 5,
   "metadata": {},
   "outputs": [],
   "source": [
    "def classes(train): \n",
    "    versicolor = train.loc[train['species']=='versicolor']\n",
    "    setosa = train.loc[train['species']=='setosa']\n",
    "    virginica = train.loc[train['species']=='virginica']\n",
    "    return versicolor,setosa,virginica"
   ]
  },
  {
   "cell_type": "code",
   "execution_count": 6,
   "metadata": {},
   "outputs": [],
   "source": [
    "def variance(dataset): \n",
    "    dataset_sepal_mean = dataset[['sepal_length']].mean(axis = 0)\n",
    "    dataset_petal_mean = dataset[['petal_width']].mean(axis = 0)\n",
    "   \n",
    "    var1 = 0\n",
    "    var2 = 0\n",
    "    for index,rows in dataset.iterrows(): \n",
    "        \n",
    "        var1+=(rows['sepal_length']-dataset_sepal_mean)**2\n",
    "        var2+=(rows['petal_width']-dataset_petal_mean)**2\n",
    "    return dataset_sepal_mean[0],dataset_petal_mean[0],var1[0]/len(dataset),var2[0]/len(dataset)"
   ]
  },
  {
   "cell_type": "code",
   "execution_count": 7,
   "metadata": {},
   "outputs": [],
   "source": [
    "\n",
    "def test_model(test):\n",
    "    \n",
    "        \n",
    "    correct = 0\n",
    "    for index,rows in test.iterrows(): \n",
    "        \n",
    "       \n",
    "\n",
    "        I1 = rows['sepal_length']\n",
    "        I2 = rows['petal_width']\n",
    "\n",
    "        K1 = 1./np.sqrt(2*np.pi*versicolor_petal_var)\n",
    "        K2 = 1./np.sqrt(2*np.pi*versicolor_sepal_var)\n",
    "        T1 = np.exp(-((I1-versicolor_sepal_mean)**2)/(2*versicolor_sepal_var))\n",
    "        T2 = np.exp(-((I2-versicolor_petal_mean)**2)/(2*versicolor_petal_var))\n",
    "        probability_versi = P_versi*K1*K2*T1*T2\n",
    "\n",
    "        K1 = 1./np.sqrt(2*np.pi*setosa_petal_var)\n",
    "        K2 = 1./np.sqrt(2*np.pi*setosa_sepal_var)\n",
    "        T1 = np.exp(-((I1-setosa_sepal_mean)**2)/(2*setosa_sepal_var))\n",
    "        T2 = np.exp(-((I2-setosa_petal_mean)**2)/(2*setosa_petal_var))\n",
    "        probability_setosa = P_setosa*K1*K2*T1*T2\n",
    "\n",
    "        K1 = 1./np.sqrt(2*np.pi*virginica_petal_var)\n",
    "        K2 = 1./np.sqrt(2*np.pi*virginica_sepal_var)\n",
    "        T1 = np.exp(-((I1-virginica_sepal_mean)**2)/(2*virginica_sepal_var))\n",
    "        T2 = np.exp(-((I2-virginica_petal_mean)**2)/(2*virginica_petal_var))\n",
    "        probability_virginica = P_virg*K1*K2*T1*T2\n",
    "\n",
    "        arr = ['versicolor','setosa','virginica']\n",
    "        loc = np.argmax([probability_versi,probability_setosa,probability_virginica])\n",
    "        if(arr[loc]==rows['species']):\n",
    "            correct+=1\n",
    "    return correct/len(test)"
   ]
  },
  {
   "cell_type": "code",
   "execution_count": 8,
   "metadata": {},
   "outputs": [],
   "source": [
    "#Computing important parameter\n",
    "def update_params(train):\n",
    "    \n",
    "    versicolor,setosa,virginica = classes(train)\n",
    "    \n",
    "    global versicolor_sepal_mean,versicolor_petal_mean,versicolor_sepal_var,versicolor_petal_var\n",
    "    versicolor_sepal_mean,versicolor_petal_mean,versicolor_sepal_var,versicolor_petal_var = variance(versicolor)\n",
    "\n",
    "    global setosa_sepal_mean,setosa_petal_mean,setosa_sepal_var,setosa_petal_var\n",
    "    setosa_sepal_mean,setosa_petal_mean,setosa_sepal_var,setosa_petal_var = variance(setosa)\n",
    "\n",
    "    global virginica_sepal_mean,virginica_petal_mean,virginica_sepal_var,virginica_petal_var\n",
    "    virginica_sepal_mean,virginica_petal_mean,virginica_sepal_var,virginica_petal_var = variance(virginica)\n",
    "\n",
    "    P_virg = len(virginica)/(len(virginica)+len(setosa)+len(versicolor))\n",
    "\n",
    "    P_setosa = len(setosa)/(len(virginica)+len(setosa)+len(versicolor))\n",
    "\n",
    "    P_versi = len(versicolor)/(len(virginica)+len(setosa)+len(versicolor))\n",
    "    "
   ]
  },
  {
   "cell_type": "code",
   "execution_count": 9,
   "metadata": {},
   "outputs": [],
   "source": [
    "def least_variance(pool):\n",
    "    vari = 1000\n",
    "    sel_rows = 0\n",
    "    chosen_index = 0\n",
    "    for index,rows in pool.iterrows(): \n",
    "        \n",
    "        I1 = rows['sepal_length']\n",
    "        I2 = rows['petal_width']\n",
    "\n",
    "        K1 = 1./np.sqrt(2*np.pi*versicolor_petal_var)\n",
    "        K2 = 1./np.sqrt(2*np.pi*versicolor_sepal_var)\n",
    "        T1 = np.exp(-((I1-versicolor_sepal_mean)**2)/(2*versicolor_sepal_var))\n",
    "        T2 = np.exp(-((I2-versicolor_petal_mean)**2)/(2*versicolor_petal_var))\n",
    "        probability_versi = P_versi*K1*K2*T1*T2\n",
    "\n",
    "        K1 = 1./np.sqrt(2*np.pi*setosa_petal_var)\n",
    "        K2 = 1./np.sqrt(2*np.pi*setosa_sepal_var)\n",
    "        T1 = np.exp(-((I1-setosa_sepal_mean)**2)/(2*setosa_sepal_var))\n",
    "        T2 = np.exp(-((I2-setosa_petal_mean)**2)/(2*setosa_petal_var))\n",
    "        probability_setosa = P_setosa*K1*K2*T1*T2\n",
    "\n",
    "        K1 = 1./np.sqrt(2*np.pi*virginica_petal_var)\n",
    "        K2 = 1./np.sqrt(2*np.pi*virginica_sepal_var)\n",
    "        T1 = np.exp(-((I1-virginica_sepal_mean)**2)/(2*virginica_sepal_var))\n",
    "        T2 = np.exp(-((I2-virginica_petal_mean)**2)/(2*virginica_petal_var))\n",
    "        probability_virginica = P_virg*K1*K2*T1*T2\n",
    "        \n",
    "        test_var = np.var([probability_versi,probability_setosa,probability_virginica])\n",
    "        \n",
    "        if(test_var<vari): \n",
    "            sel_rows = rows\n",
    "            chosen_index = index\n",
    "            vari = test_var \n",
    "    return sel_rows,chosen_index"
   ]
  },
  {
   "cell_type": "code",
   "execution_count": 10,
   "metadata": {},
   "outputs": [
    {
     "name": "stdout",
     "output_type": "stream",
     "text": [
      "the accuracy observed on testing is 0.9111111111111111\n"
     ]
    }
   ],
   "source": [
    "#Q1(a) Training the model and observing the accuracy.\n",
    "\n",
    "versicolor,setosa,virginica = classes(train)\n",
    "\n",
    "versicolor_sepal_mean,versicolor_petal_mean,versicolor_sepal_var,versicolor_petal_var = variance(versicolor)\n",
    "\n",
    "\n",
    "setosa_sepal_mean,setosa_petal_mean,setosa_sepal_var,setosa_petal_var = variance(setosa)\n",
    "\n",
    "\n",
    "virginica_sepal_mean,virginica_petal_mean,virginica_sepal_var,virginica_petal_var = variance(virginica)\n",
    "\n",
    "P_virg = len(virginica)/(len(virginica)+len(setosa)+len(versicolor))\n",
    "\n",
    "P_setosa = len(setosa)/(len(virginica)+len(setosa)+len(versicolor))\n",
    "\n",
    "P_versi = len(versicolor)/(len(virginica)+len(setosa)+len(versicolor))\n",
    "    \n",
    "print(\"the accuracy observed on testing is\",test_model(test))"
   ]
  },
  {
   "cell_type": "code",
   "execution_count": null,
   "metadata": {},
   "outputs": [],
   "source": [
    "\n"
   ]
  },
  {
   "cell_type": "code",
   "execution_count": 11,
   "metadata": {},
   "outputs": [
    {
     "data": {
      "text/plain": [
       "Text(0.5, 1.0, 'Accuracy variation during Active learning')"
      ]
     },
     "execution_count": 11,
     "metadata": {},
     "output_type": "execute_result"
    },
    {
     "data": {
      "image/png": "[encoded data removed]",
      "text/plain": [
       "<Figure size 432x288 with 1 Axes>"
      ]
     },
     "metadata": {
      "needs_background": "light"
     },
     "output_type": "display_data"
    }
   ],
   "source": [
    "#Q1(b)Implementing active learning on the pool set.\n",
    "test = pd.read_csv('test.csv')\n",
    "pool = pd.read_csv('pool.csv')\n",
    "train = pd.read_csv('training.csv')\n",
    "update_params(train)\n",
    "accuracy_list1 = [test_model(test)]\n",
    "\n",
    "x1 = range(0,11)\n",
    "y1 = accuracy_list1\n",
    "\n",
    "for i in range(10):\n",
    "    sel_rows,index = least_variance(pool)\n",
    "    train = train.append(sel_rows)\n",
    "    pool = pool.drop([index])\n",
    "    update_params(train)\n",
    "    accuracy_list1.append(test_model(test))\n",
    "\n",
    "plt.plot(x1,y1)\n",
    "plt.title('Accuracy variation during Active learning')"
   ]
  },
  {
   "cell_type": "code",
   "execution_count": 12,
   "metadata": {},
   "outputs": [],
   "source": [
    "accuracy_list_mat = np.zeros([5,11])\n",
    "for i in range(0,5):\n",
    "    pool = pd.read_csv('pool.csv')\n",
    "    train = pd.read_csv('training.csv')\n",
    "    update_params(train)\n",
    "    random.seed(i)\n",
    "    accuracy_list2 = [test_model(test)]\n",
    "    sel_numbers = []\n",
    "    for j in range(10):\n",
    "        index = random.randrange(1,len(pool))\n",
    "        while(index in sel_numbers):\n",
    "            index = random.randrange(1,len(pool))\n",
    "    \n",
    "        sel_numbers.append(index)\n",
    "        sel_rows = pool.iloc[index]\n",
    "        train = train.append(sel_rows)\n",
    "        pool = pool.drop([index])\n",
    "        update_params(train) \n",
    "        accuracy_list2.append(test_model(test))\n",
    "    accuracy_list_mat[i,:] = accuracy_list2\n",
    "\n",
    "mean_list = accuracy_list_mat.mean(axis = 0)\n",
    "var_list = accuracy_list_mat.var(axis = 0)\n",
    "upper_list = mean_list+np.sqrt(var_list)\n",
    "lower_list = mean_list-np.sqrt(var_list) "
   ]
  },
  {
   "cell_type": "code",
   "execution_count": 14,
   "metadata": {},
   "outputs": [
    {
     "data": {
      "text/plain": [
       "Text(0.5, 1.0, 'Active Learning v/s Random selection')"
      ]
     },
     "execution_count": 14,
     "metadata": {},
     "output_type": "execute_result"
    },
    {
     "data": {
      "image/png": "[encoded data removed]",
      "text/plain": [
       "<Figure size 432x288 with 1 Axes>"
      ]
     },
     "metadata": {
      "needs_background": "light"
     },
     "output_type": "display_data"
    }
   ],
   "source": [
    "import matplotlib.pyplot as plt\n",
    "\n",
    "x1 = range(0,11)\n",
    "y1 = accuracy_list1\n",
    "y2 = mean_list\n",
    "y3 = upper_list\n",
    "y4 = lower_list\n",
    "fig = plt.figure()\n",
    "ax = plt.subplot(111)\n",
    "ax.plot(x1,y1)\n",
    "ax.plot(x1,y2)\n",
    "ax.plot(x1,y3)\n",
    "ax.plot(x1,y4)\n",
    "ax.legend(['active_learning','random_upper_bound','mean_random','random_lower_bound'])\n",
    "plt.title('Active Learning v/s Random selection')"
   ]
  },
  {
   "cell_type": "code",
   "execution_count": 75,
   "metadata": {},
   "outputs": [],
   "source": []
  },
  {
   "cell_type": "code",
   "execution_count": null,
   "metadata": {},
   "outputs": [],
   "source": []
  },
  {
   "cell_type": "code",
   "execution_count": null,
   "metadata": {},
   "outputs": [],
   "source": []
  },
  {
   "cell_type": "code",
   "execution_count": null,
   "metadata": {},
   "outputs": [],
   "source": []
  },
  {
   "cell_type": "code",
   "execution_count": null,
   "metadata": {},
   "outputs": [],
   "source": []
  },
  {
   "cell_type": "code",
   "execution_count": null,
   "metadata": {},
   "outputs": [],
   "source": []
  },
  {
   "cell_type": "code",
   "execution_count": null,
   "metadata": {},
   "outputs": [],
   "source": []
  },
  {
   "cell_type": "code",
   "execution_count": null,
   "metadata": {},
   "outputs": [],
   "source": []
  },
  {
   "cell_type": "code",
   "execution_count": null,
   "metadata": {},
   "outputs": [],
   "source": []
  },
  {
   "cell_type": "code",
   "execution_count": null,
   "metadata": {},
   "outputs": [],
   "source": []
  },
  {
   "cell_type": "code",
   "execution_count": null,
   "metadata": {},
   "outputs": [],
   "source": []
  },
  {
   "cell_type": "code",
   "execution_count": null,
   "metadata": {},
   "outputs": [],
   "source": []
  },
  {
   "cell_type": "code",
   "execution_count": null,
   "metadata": {},
   "outputs": [],
   "source": []
  },
  {
   "cell_type": "code",
   "execution_count": null,
   "metadata": {},
   "outputs": [],
   "source": []
  },
  {
   "cell_type": "code",
   "execution_count": null,
   "metadata": {},
   "outputs": [],
   "source": []
  },
  {
   "cell_type": "code",
   "execution_count": null,
   "metadata": {},
   "outputs": [],
   "source": []
  },
  {
   "cell_type": "code",
   "execution_count": null,
   "metadata": {},
   "outputs": [],
   "source": []
  },
  {
   "cell_type": "code",
   "execution_count": null,
   "metadata": {},
   "outputs": [],
   "source": []
  },
  {
   "cell_type": "code",
   "execution_count": 138,
   "metadata": {},
   "outputs": [],
   "source": []
  },
  {
   "cell_type": "code",
   "execution_count": 139,
   "metadata": {},
   "outputs": [],
   "source": []
  },
  {
   "cell_type": "code",
   "execution_count": 140,
   "metadata": {},
   "outputs": [],
   "source": []
  },
  {
   "cell_type": "code",
   "execution_count": null,
   "metadata": {},
   "outputs": [],
   "source": []
  },
  {
   "cell_type": "code",
   "execution_count": null,
   "metadata": {},
   "outputs": [],
   "source": []
  },
  {
   "cell_type": "code",
   "execution_count": null,
   "metadata": {},
   "outputs": [],
   "source": []
  },
  {
   "cell_type": "code",
   "execution_count": null,
   "metadata": {},
   "outputs": [],
   "source": []
  },
  {
   "cell_type": "code",
   "execution_count": null,
   "metadata": {},
   "outputs": [],
   "source": []
  },
  {
   "cell_type": "code",
   "execution_count": null,
   "metadata": {},
   "outputs": [],
   "source": [
    "#Part (b) Computing the Accuracy on the test set using active learning\n",
    "#df = pd.read_csv('iris.csv')\n",
    "#df = df.sample(frac = 1)\n",
    "#df = df.drop(['sepal_width','petal_length'], axis = 1)\n",
    "#train = df[:15]\n",
    "#pool  = df[15:105]\n",
    "#test  = df[105:]\n",
    "#train.to_csv('training.csv')\n",
    "#pool.to_csv('pool.csv') \n",
    "#test.to_csv('testing.csv')"
   ]
  }
 ],
 "metadata": {
  "kernelspec": {
   "display_name": "Python 3",
   "language": "python",
   "name": "python3"
  },
  "language_info": {
   "codemirror_mode": {
    "name": "ipython",
    "version": 3
   },
   "file_extension": ".py",
   "mimetype": "text/x-python",
   "name": "python",
   "nbconvert_exporter": "python",
   "pygments_lexer": "ipython3",
   "version": "3.6.7"
  }
 },
 "nbformat": 4,
 "nbformat_minor": 2
}
