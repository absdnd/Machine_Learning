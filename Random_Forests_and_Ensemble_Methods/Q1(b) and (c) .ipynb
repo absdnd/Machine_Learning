{
 "cells": [
  {
   "cell_type": "code",
   "execution_count": 22,
   "metadata": {},
   "outputs": [],
   "source": [
    "import multiprocessing  \n",
    "import random\n",
    "from multiprocessing import Pool\n",
    "from Helper import *\n",
    "\n",
    "\n",
    "\n"
   ]
  },
  {
   "cell_type": "code",
   "execution_count": 29,
   "metadata": {},
   "outputs": [],
   "source": [
    "dataset = pd.read_csv('iris.csv')\n",
    "train,test = divide_data(dataset)\n",
    "depth = 2\n",
    "no_of_features = 3\n",
    "no_of_estimators = 20"
   ]
  },
  {
   "cell_type": "code",
   "execution_count": 30,
   "metadata": {},
   "outputs": [],
   "source": [
    "#Building 3 trees in parallel.\n",
    "#Q1(b)\n",
    "\n",
    "if __name__ == '__main__':\n",
    "    pool = Pool(processes = 3)\n",
    "    parallel_tree = [pool.apply(build_random_tree, args=(train,depth,no_of_features)) for x in range(no_of_estimators)]\n",
    "    "
   ]
  },
  {
   "cell_type": "code",
   "execution_count": 31,
   "metadata": {},
   "outputs": [
    {
     "name": "stdout",
     "output_type": "stream",
     "text": [
      "Accuracy in case of Parallel implementation is  0.94\n",
      "Accuracy in case of Serial Implementation is  0.94\n"
     ]
    }
   ],
   "source": [
    "#Q1(c)Comparing performance with 3 trees with serial implementation.\n",
    "serial_tree = []\n",
    "for i in range(no_of_estimators):\n",
    "    serial_1 = build_random_tree(train,depth,no_of_features)\n",
    "    serial_tree.append(serial_1)\n",
    "\n",
    "acc1 = test_random_forests(parallel_tree,test) \n",
    "acc2 = test_random_forests(serial_tree,test)\n",
    "#As observed parallel implementation yields better accuracy\n",
    "print(\"Accuracy in case of Parallel implementation is \",acc1)\n",
    "print(\"Accuracy in case of Serial Implementation is \",acc2)"
   ]
  },
  {
   "cell_type": "code",
   "execution_count": null,
   "metadata": {},
   "outputs": [],
   "source": []
  },
  {
   "cell_type": "code",
   "execution_count": null,
   "metadata": {},
   "outputs": [],
   "source": []
  },
  {
   "cell_type": "code",
   "execution_count": null,
   "metadata": {},
   "outputs": [],
   "source": []
  }
 ],
 "metadata": {
  "kernelspec": {
   "display_name": "Python 3",
   "language": "python",
   "name": "python3"
  },
  "language_info": {
   "codemirror_mode": {
    "name": "ipython",
    "version": 3
   },
   "file_extension": ".py",
   "mimetype": "text/x-python",
   "name": "python",
   "nbconvert_exporter": "python",
   "pygments_lexer": "ipython3",
   "version": "3.6.7"
  }
 },
 "nbformat": 4,
 "nbformat_minor": 2
}
