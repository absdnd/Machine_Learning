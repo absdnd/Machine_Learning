{
 "cells": [
  {
   "cell_type": "code",
   "execution_count": 34,
   "metadata": {},
   "outputs": [],
   "source": [
    "import numpy as np \n",
    "import pandas as pd\n",
    "from cvxpy import *\n",
    "import matplotlib.pyplot as plt\n",
    "\n",
    "from sklearn import svm"
   ]
  },
  {
   "cell_type": "code",
   "execution_count": 35,
   "metadata": {},
   "outputs": [],
   "source": [
    "df = pd.read_csv('iris.csv')\n",
    "df = df.sample(frac = 1)\n",
    "df = df.drop(['sepal_width','petal_length'], axis = 1)\n",
    "\n",
    "samples = len(df)\n",
    "df['species'] = df['species'].mask(df['species'] != 'setosa',-1)\n",
    "df['species'] = df['species'].mask(df['species'] == 'setosa',1)\n"
   ]
  },
  {
   "cell_type": "markdown",
   "metadata": {},
   "source": [
    "# (0) Creating Hard SVM function "
   ]
  },
  {
   "cell_type": "code",
   "execution_count": 36,
   "metadata": {},
   "outputs": [],
   "source": [
    "#Q1(a) Creating the hard SVM function.\n",
    "def hard_SVM(X1,X2,Y):\n",
    "    w1 = Variable() \n",
    "    w2 = Variable()\n",
    "    b = Variable()\n",
    "    constraints = []\n",
    "    samples = len(df)\n",
    "\n",
    "    for i in range(samples):\n",
    "        constraints += [\n",
    "        Y[i]*(w1*X1[i]+w2*X2[i]+b)>=1\n",
    "        ]\n",
    "    objective = Minimize(w1**2 + w2**2)\n",
    "    prob = Problem(objective, constraints)\n",
    "    prob.solve()\n",
    "    return constraints,w1,w2,b"
   ]
  },
  {
   "cell_type": "code",
   "execution_count": 37,
   "metadata": {},
   "outputs": [],
   "source": [
    "def classes1(X1,X2,Y,dual_values): \n",
    "    X1_setosa = [] \n",
    "    X1_not_setosa = [] \n",
    "    X2_setosa = []\n",
    "    X2_not_setosa = []\n",
    "    X1_dual = []\n",
    "    X2_dual = [] \n",
    "\n",
    "    for i in range(len(X1)): \n",
    "        if((Y[i] == 1) and dual_values[i] == 0): \n",
    "            X1_setosa.append(X1[i])\n",
    "            X2_setosa.append(X2[i])\n",
    "       \n",
    "        \n",
    "    \n",
    "        elif((Y[i]==-1) and dual_values[i] == 0): \n",
    "            X1_not_setosa.append(X1[i])\n",
    "            X2_not_setosa.append(X2[i])\n",
    "        \n",
    "    \n",
    "        else: \n",
    "            X1_dual.append(X1[i])\n",
    "            X2_dual.append(X2[i])\n",
    "        \n",
    "    return X1_setosa,X1_not_setosa,X2_setosa,X2_not_setosa,X1_dual,X2_dual\n",
    "    "
   ]
  },
  {
   "cell_type": "code",
   "execution_count": 38,
   "metadata": {},
   "outputs": [],
   "source": [
    "def classes2(X1,X2,Y):\n",
    "    X1_setosa = [] \n",
    "    X1_not_setosa = [] \n",
    "    X2_setosa = []\n",
    "    X2_not_setosa = []\n",
    "   \n",
    "    \n",
    "    for i in range(len(X1)): \n",
    "        if((Y[i] == 1) and dual_values[i] == 0): \n",
    "            X1_setosa.append(X1[i])\n",
    "            X2_setosa.append(X2[i])\n",
    "       \n",
    "        \n",
    "    \n",
    "        elif((Y[i]==-1) and dual_values[i] == 0): \n",
    "            X1_not_setosa.append(X1[i])\n",
    "            X2_not_setosa.append(X2[i])\n",
    "        \n",
    "    \n",
    "     \n",
    "        \n",
    "    return X1_setosa,X1_not_setosa,X2_setosa,X2_not_setosa\n",
    "    "
   ]
  },
  {
   "cell_type": "markdown",
   "metadata": {},
   "source": [
    "# (i) Solving optimization for IRIS "
   ]
  },
  {
   "cell_type": "code",
   "execution_count": 29,
   "metadata": {},
   "outputs": [],
   "source": [
    "\n",
    "\n",
    "X1 = df['sepal_length'].tolist()\n",
    "X2 = df['petal_width'].tolist()\n",
    "Y = df['species'].tolist()\n",
    "\n",
    "constraints,w1,w2,b = hard_SVM(X1,X2,Y)\n",
    "dual_values = []\n",
    "for i in range(samples): \n",
    "    val = constraints[i].dual_value\n",
    "    if(val>0.01):\n",
    "        dual_values.append(val)\n",
    "    else:\n",
    "        dual_values.append(0)\n"
   ]
  },
  {
   "cell_type": "markdown",
   "metadata": {},
   "source": [
    "# (ii)Displaying dual values."
   ]
  },
  {
   "cell_type": "code",
   "execution_count": 30,
   "metadata": {},
   "outputs": [
    {
     "name": "stdout",
     "output_type": "stream",
     "text": [
      "the dual values are  [0, 0, 0, 0, 0, 0, 0, 0, 0, 25.013104083552417, 0, 0, 0, 0.19509853807974062, 0, 0, 0, 0, 0, 0, 0, 0, 0, 0, 0, 0, 0, 0, 0, 0, 0, 0, 0, 0, 0, 0, 0, 7.326718659967334, 0, 0, 0, 1.162039085685233, 0, 0, 0, 0, 0, 0, 0, 0, 0, 0, 0, 0, 0, 0, 0, 0, 0, 0, 0, 0, 0, 0, 0, 0, 0, 0, 0, 0, 0, 0, 0.043830704661686495, 0, 0, 0, 0, 0, 0, 0, 0, 0, 0, 0, 0, 0, 0, 0, 0, 0, 0, 0, 0, 0, 0, 0, 0, 0, 0, 0, 0, 0, 0, 0, 0, 0.09715274751621726, 0, 0, 0, 0, 0, 0, 0, 0, 0, 0, 0, 0, 0, 0, 0, 0, 0, 0, 8.861480067645424, 0, 0, 0, 0, 0, 0, 0, 0, 0, 0, 0, 0, 0, 0, 0, 0, 0, 0, 0, 0, 0, 0, 0, 0, 7.326718659967334]\n"
     ]
    }
   ],
   "source": [
    "#Q1(a)(ii)\n",
    "print(\"the dual values are \",dual_values)"
   ]
  },
  {
   "cell_type": "code",
   "execution_count": 31,
   "metadata": {},
   "outputs": [],
   "source": [
    "\n",
    "X1_setosa,X1_not_setosa,X2_setosa,X2_not_setosa,X1_dual,X2_dual = classes1(X1,X2,Y,dual_values)"
   ]
  },
  {
   "cell_type": "markdown",
   "metadata": {},
   "source": [
    "# (iii)Scatter Plot of Support Vectors."
   ]
  },
  {
   "cell_type": "code",
   "execution_count": 32,
   "metadata": {},
   "outputs": [
    {
     "data": {
      "text/plain": [
       "<matplotlib.legend.Legend at 0x25172507898>"
      ]
     },
     "execution_count": 32,
     "metadata": {},
     "output_type": "execute_result"
    },
    {
     "data": {
      "image/png": "[encoded data removed]",
      "text/plain": [
       "<Figure size 432x288 with 1 Axes>"
      ]
     },
     "metadata": {
      "needs_background": "light"
     },
     "output_type": "display_data"
    }
   ],
   "source": [
    "fig = plt.figure()\n",
    "ax = plt.axes()\n",
    "\n",
    "x = np.linspace(0,8,100)\n",
    "y = (-b.value - w1.value*x)/w2.value\n",
    "y1 =(-b.value - w1.value*x-1)/w2.value\n",
    "y2 =(-b.value - w1.value*x+1)/w2.value\n",
    "ax.plot(x,y,linestyle = '-',color = 'black')\n",
    "ax.plot(x,y1,linestyle = '--',color = 'red')\n",
    "ax.plot(x,y2,linestyle = '--',color = 'red')\n",
    "plt.scatter(X1_setosa,X2_setosa,color = 'blue')\n",
    "plt.scatter(X1_not_setosa,X2_not_setosa,color = 'green')\n",
    "plt.scatter(X1_dual,X2_dual,color = 'orange')\n",
    "plt.title('Scatter plot of SVM')\n",
    "plt.xlabel('sepal length')\n",
    "plt.ylabel('petal width')\n",
    "plt.legend(['Margin','Support','Support','setosa','not_setosa','support_points'])"
   ]
  },
  {
   "cell_type": "markdown",
   "metadata": {},
   "source": [
    "# (iv) Plotting using Sklearn SVM"
   ]
  },
  {
   "cell_type": "code",
   "execution_count": 33,
   "metadata": {},
   "outputs": [
    {
     "data": {
      "text/plain": [
       "<matplotlib.legend.Legend at 0x2517242fda0>"
      ]
     },
     "execution_count": 33,
     "metadata": {},
     "output_type": "execute_result"
    },
    {
     "data": {
      "image/png": "[encoded data removed]",
      "text/plain": [
       "<Figure size 432x288 with 1 Axes>"
      ]
     },
     "metadata": {
      "needs_background": "light"
     },
     "output_type": "display_data"
    }
   ],
   "source": [
    "\n",
    "\n",
    "df = pd.read_csv('iris.csv')\n",
    "df = df.sample(frac = 1)\n",
    "df = df.drop(['sepal_width','petal_length'], axis = 1)\n",
    "\n",
    "df['species'] = df['species'].mask(df['species'] != 'setosa',-1)\n",
    "df['species'] = df['species'].mask(df['species'] == 'setosa',1)\n",
    "\n",
    "\n",
    "X1 = df['sepal_length'].tolist()\n",
    "X2 = df['petal_width'].tolist()\n",
    "Y = df['species'].tolist()\n",
    "\n",
    "\n",
    "X  = df[['sepal_length','petal_width']].values.tolist()\n",
    "Y = df['species'].tolist()\n",
    "clf = svm.SVC(kernel ='linear')\n",
    "\n",
    "\n",
    "clf.fit(X,Y)\n",
    "we1,we2 = clf.coef_[0][0],clf.coef_[0][1]\n",
    "be = clf.intercept_[0]\n",
    "\n",
    "support_vectors = [] \n",
    "for i in clf.support_vectors_: \n",
    "    support_vectors.append(i.tolist())\n",
    "X1_setosa,X1_not_setosa,X2_setosa,X2_not_setosa = classes2(X1,X2,Y)\n",
    "\n",
    "X2_dual = [] \n",
    "X1_dual = []\n",
    "    \n",
    "for i in range(len(X1)):\n",
    "    val = [X1[i],X2[i]]\n",
    "    if(val in support_vectors):\n",
    "        X1_dual.append(X1[i])\n",
    "        X2_dual.append(X2[i])\n",
    "        \n",
    "#Q1(a)(iii) Plotting the separating line in this case. Similar to one obtained earlier. \n",
    "\n",
    "fig = plt.figure()\n",
    "ax = plt.axes()\n",
    "\n",
    "x = np.linspace(0,8,100)\n",
    "y = (-be - we1*x)/we2\n",
    "y1 =(-be - we1*x-1)/we2\n",
    "y2 =(-be - we1*x+1)/we2\n",
    "ax.plot(x,y,linestyle = '-',color = 'black')\n",
    "ax.plot(x,y1,linestyle = '--',color = 'red')\n",
    "ax.plot(x,y2,linestyle = '--',color = 'red')\n",
    "plt.scatter(X1_setosa,X2_setosa,color = 'blue')\n",
    "plt.scatter(X1_not_setosa,X2_not_setosa,color = 'green')\n",
    "plt.scatter(X1_dual,X2_dual,color = 'orange')\n",
    "plt.title('Scatter plot of SVM')\n",
    "plt.xlabel('sepal length')\n",
    "plt.ylabel('petal width')\n",
    "plt.legend(['Margin','Support','Support','setosa','not_setosa','support_points'])"
   ]
  },
  {
   "cell_type": "code",
   "execution_count": null,
   "metadata": {},
   "outputs": [],
   "source": [
    "     "
   ]
  },
  {
   "cell_type": "code",
   "execution_count": null,
   "metadata": {},
   "outputs": [],
   "source": []
  },
  {
   "cell_type": "code",
   "execution_count": null,
   "metadata": {},
   "outputs": [],
   "source": []
  },
  {
   "cell_type": "code",
   "execution_count": null,
   "metadata": {},
   "outputs": [],
   "source": []
  },
  {
   "cell_type": "code",
   "execution_count": null,
   "metadata": {},
   "outputs": [],
   "source": []
  },
  {
   "cell_type": "code",
   "execution_count": null,
   "metadata": {},
   "outputs": [],
   "source": []
  },
  {
   "cell_type": "code",
   "execution_count": null,
   "metadata": {},
   "outputs": [],
   "source": []
  },
  {
   "cell_type": "code",
   "execution_count": null,
   "metadata": {},
   "outputs": [],
   "source": []
  },
  {
   "cell_type": "code",
   "execution_count": null,
   "metadata": {},
   "outputs": [],
   "source": []
  },
  {
   "cell_type": "code",
   "execution_count": null,
   "metadata": {},
   "outputs": [],
   "source": []
  },
  {
   "cell_type": "code",
   "execution_count": null,
   "metadata": {},
   "outputs": [],
   "source": []
  },
  {
   "cell_type": "code",
   "execution_count": null,
   "metadata": {},
   "outputs": [],
   "source": []
  },
  {
   "cell_type": "code",
   "execution_count": null,
   "metadata": {},
   "outputs": [],
   "source": []
  },
  {
   "cell_type": "code",
   "execution_count": 241,
   "metadata": {},
   "outputs": [],
   "source": [
    "\n",
    "        \n",
    "    \n",
    " \n",
    "   "
   ]
  },
  {
   "cell_type": "code",
   "execution_count": null,
   "metadata": {},
   "outputs": [],
   "source": []
  },
  {
   "cell_type": "code",
   "execution_count": null,
   "metadata": {},
   "outputs": [],
   "source": []
  },
  {
   "cell_type": "code",
   "execution_count": null,
   "metadata": {},
   "outputs": [],
   "source": [
    "\n"
   ]
  },
  {
   "cell_type": "code",
   "execution_count": null,
   "metadata": {},
   "outputs": [],
   "source": []
  },
  {
   "cell_type": "code",
   "execution_count": null,
   "metadata": {},
   "outputs": [],
   "source": []
  },
  {
   "cell_type": "code",
   "execution_count": null,
   "metadata": {},
   "outputs": [],
   "source": []
  },
  {
   "cell_type": "code",
   "execution_count": null,
   "metadata": {},
   "outputs": [],
   "source": []
  },
  {
   "cell_type": "code",
   "execution_count": null,
   "metadata": {},
   "outputs": [],
   "source": []
  },
  {
   "cell_type": "code",
   "execution_count": null,
   "metadata": {},
   "outputs": [],
   "source": []
  },
  {
   "cell_type": "code",
   "execution_count": null,
   "metadata": {},
   "outputs": [],
   "source": []
  },
  {
   "cell_type": "code",
   "execution_count": null,
   "metadata": {},
   "outputs": [],
   "source": []
  },
  {
   "cell_type": "code",
   "execution_count": null,
   "metadata": {},
   "outputs": [],
   "source": []
  }
 ],
 "metadata": {
  "kernelspec": {
   "display_name": "Python 3",
   "language": "python",
   "name": "python3"
  },
  "language_info": {
   "codemirror_mode": {
    "name": "ipython",
    "version": 3
   },
   "file_extension": ".py",
   "mimetype": "text/x-python",
   "name": "python",
   "nbconvert_exporter": "python",
   "pygments_lexer": "ipython3",
   "version": "3.6.7"
  }
 },
 "nbformat": 4,
 "nbformat_minor": 2
}
